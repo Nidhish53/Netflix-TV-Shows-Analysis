{
 "cells": [
  {
   "cell_type": "markdown",
   "id": "61d94b3e",
   "metadata": {
    "_cell_guid": "b1076dfc-b9ad-4769-8c92-a6c4dae69d19",
    "_uuid": "8f2839f25d086af736a60e9eeb907d3b93b6e0e5",
    "execution": {
     "iopub.execute_input": "2022-06-20T05:54:40.213380Z",
     "iopub.status.busy": "2022-06-20T05:54:40.212880Z",
     "iopub.status.idle": "2022-06-20T05:54:40.217799Z",
     "shell.execute_reply": "2022-06-20T05:54:40.216736Z",
     "shell.execute_reply.started": "2022-06-20T05:54:40.213346Z"
    },
    "papermill": {
     "duration": 0.018372,
     "end_time": "2022-06-20T07:12:26.295084",
     "exception": false,
     "start_time": "2022-06-20T07:12:26.276712",
     "status": "completed"
    },
    "tags": []
   },
   "source": [
    "# Netflix TV Shows Analysis"
   ]
  },
  {
   "cell_type": "markdown",
   "id": "c3282e8c",
   "metadata": {
    "papermill": {
     "duration": 0.00881,
     "end_time": "2022-06-20T07:12:26.314403",
     "exception": false,
     "start_time": "2022-06-20T07:12:26.305593",
     "status": "completed"
    },
    "tags": []
   },
   "source": [
    "# Introduction\n",
    "\n",
    "Netflix is one of the most popular media and video streaming platforms. They have over 8000 movies or tv shows available on their platform. This data set was created to list all shows available on Netflix streaming, and analyze the data to find interesting facts. This data was acquired in May 2022 containing data available in the United States."
   ]
  },
  {
   "cell_type": "markdown",
   "id": "7ecbb470",
   "metadata": {
    "papermill": {
     "duration": 0.009266,
     "end_time": "2022-06-20T07:12:26.332686",
     "exception": false,
     "start_time": "2022-06-20T07:12:26.323420",
     "status": "completed"
    },
    "tags": []
   },
   "source": [
    "# TASKS & OBJECTIVES\n",
    "* Understanding what content is available in different countries.\n",
    "* Identifying the main content available on the streaming.\n",
    "* Does Netflix has more focus on TV Shows than movies in recent years.\n",
    "* Network analysis on the cast of the titles.\n",
    "* Exploratory data analysis to find interesting insights."
   ]
  },
  {
   "cell_type": "markdown",
   "id": "1f175aaf",
   "metadata": {
    "papermill": {
     "duration": 0.008915,
     "end_time": "2022-06-20T07:12:26.350586",
     "exception": false,
     "start_time": "2022-06-20T07:12:26.341671",
     "status": "completed"
    },
    "tags": []
   },
   "source": [
    "# Data Wrangling and Inspection"
   ]
  },
  {
   "cell_type": "markdown",
   "id": "b117d9c2",
   "metadata": {
    "papermill": {
     "duration": 0.008792,
     "end_time": "2022-06-20T07:12:26.368546",
     "exception": false,
     "start_time": "2022-06-20T07:12:26.359754",
     "status": "completed"
    },
    "tags": []
   },
   "source": [
    "Importing all the libraries required for proper analysis"
   ]
  },
  {
   "cell_type": "code",
   "execution_count": 1,
   "id": "d891e8d1",
   "metadata": {
    "execution": {
     "iopub.execute_input": "2022-06-20T07:12:26.389180Z",
     "iopub.status.busy": "2022-06-20T07:12:26.388580Z",
     "iopub.status.idle": "2022-06-20T07:12:27.399505Z",
     "shell.execute_reply": "2022-06-20T07:12:27.398494Z"
    },
    "papermill": {
     "duration": 1.02371,
     "end_time": "2022-06-20T07:12:27.401968",
     "exception": false,
     "start_time": "2022-06-20T07:12:26.378258",
     "status": "completed"
    },
    "tags": []
   },
   "outputs": [
    {
     "name": "stdout",
     "output_type": "stream",
     "text": [
      "/kaggle/input/netflix-tv-shows-and-movies/credits.csv\n",
      "/kaggle/input/netflix-tv-shows-and-movies/titles.csv\n"
     ]
    }
   ],
   "source": [
    "import numpy as np # linear algebra\n",
    "import pandas as pd # data processing, CSV file I/O (e.g. pd.read_csv)\n",
    "\n",
    "import os\n",
    "for dirname, _, filenames in os.walk('/kaggle/input'):\n",
    "    for filename in filenames:\n",
    "        print(os.path.join(dirname, filename))\n",
    "\n",
    "import matplotlib.pyplot as plt\n",
    "import seaborn as sns"
   ]
  },
  {
   "cell_type": "code",
   "execution_count": 2,
   "id": "89838378",
   "metadata": {
    "execution": {
     "iopub.execute_input": "2022-06-20T07:12:27.422950Z",
     "iopub.status.busy": "2022-06-20T07:12:27.422375Z",
     "iopub.status.idle": "2022-06-20T07:12:27.539049Z",
     "shell.execute_reply": "2022-06-20T07:12:27.538119Z"
    },
    "papermill": {
     "duration": 0.129142,
     "end_time": "2022-06-20T07:12:27.541230",
     "exception": false,
     "start_time": "2022-06-20T07:12:27.412088",
     "status": "completed"
    },
    "tags": []
   },
   "outputs": [
    {
     "data": {
      "text/html": [
       "<div>\n",
       "<style scoped>\n",
       "    .dataframe tbody tr th:only-of-type {\n",
       "        vertical-align: middle;\n",
       "    }\n",
       "\n",
       "    .dataframe tbody tr th {\n",
       "        vertical-align: top;\n",
       "    }\n",
       "\n",
       "    .dataframe thead th {\n",
       "        text-align: right;\n",
       "    }\n",
       "</style>\n",
       "<table border=\"1\" class=\"dataframe\">\n",
       "  <thead>\n",
       "    <tr style=\"text-align: right;\">\n",
       "      <th></th>\n",
       "      <th>id</th>\n",
       "      <th>title</th>\n",
       "      <th>type</th>\n",
       "      <th>description</th>\n",
       "      <th>release_year</th>\n",
       "      <th>age_certification</th>\n",
       "      <th>runtime</th>\n",
       "      <th>genres</th>\n",
       "      <th>production_countries</th>\n",
       "      <th>seasons</th>\n",
       "      <th>imdb_id</th>\n",
       "      <th>imdb_score</th>\n",
       "      <th>imdb_votes</th>\n",
       "      <th>tmdb_popularity</th>\n",
       "      <th>tmdb_score</th>\n",
       "    </tr>\n",
       "  </thead>\n",
       "  <tbody>\n",
       "    <tr>\n",
       "      <th>0</th>\n",
       "      <td>ts300399</td>\n",
       "      <td>Five Came Back: The Reference Films</td>\n",
       "      <td>SHOW</td>\n",
       "      <td>This collection includes 12 World War II-era p...</td>\n",
       "      <td>1945</td>\n",
       "      <td>TV-MA</td>\n",
       "      <td>48</td>\n",
       "      <td>['documentation']</td>\n",
       "      <td>['US']</td>\n",
       "      <td>1.0</td>\n",
       "      <td>NaN</td>\n",
       "      <td>NaN</td>\n",
       "      <td>NaN</td>\n",
       "      <td>0.600</td>\n",
       "      <td>NaN</td>\n",
       "    </tr>\n",
       "    <tr>\n",
       "      <th>1</th>\n",
       "      <td>tm84618</td>\n",
       "      <td>Taxi Driver</td>\n",
       "      <td>MOVIE</td>\n",
       "      <td>A mentally unstable Vietnam War veteran works ...</td>\n",
       "      <td>1976</td>\n",
       "      <td>R</td>\n",
       "      <td>113</td>\n",
       "      <td>['crime', 'drama']</td>\n",
       "      <td>['US']</td>\n",
       "      <td>NaN</td>\n",
       "      <td>tt0075314</td>\n",
       "      <td>8.3</td>\n",
       "      <td>795222.0</td>\n",
       "      <td>27.612</td>\n",
       "      <td>8.2</td>\n",
       "    </tr>\n",
       "    <tr>\n",
       "      <th>2</th>\n",
       "      <td>tm127384</td>\n",
       "      <td>Monty Python and the Holy Grail</td>\n",
       "      <td>MOVIE</td>\n",
       "      <td>King Arthur, accompanied by his squire, recrui...</td>\n",
       "      <td>1975</td>\n",
       "      <td>PG</td>\n",
       "      <td>91</td>\n",
       "      <td>['comedy', 'fantasy']</td>\n",
       "      <td>['GB']</td>\n",
       "      <td>NaN</td>\n",
       "      <td>tt0071853</td>\n",
       "      <td>8.2</td>\n",
       "      <td>530877.0</td>\n",
       "      <td>18.216</td>\n",
       "      <td>7.8</td>\n",
       "    </tr>\n",
       "    <tr>\n",
       "      <th>3</th>\n",
       "      <td>tm70993</td>\n",
       "      <td>Life of Brian</td>\n",
       "      <td>MOVIE</td>\n",
       "      <td>Brian Cohen is an average young Jewish man, bu...</td>\n",
       "      <td>1979</td>\n",
       "      <td>R</td>\n",
       "      <td>94</td>\n",
       "      <td>['comedy']</td>\n",
       "      <td>['GB']</td>\n",
       "      <td>NaN</td>\n",
       "      <td>tt0079470</td>\n",
       "      <td>8.0</td>\n",
       "      <td>392419.0</td>\n",
       "      <td>17.505</td>\n",
       "      <td>7.8</td>\n",
       "    </tr>\n",
       "    <tr>\n",
       "      <th>4</th>\n",
       "      <td>tm190788</td>\n",
       "      <td>The Exorcist</td>\n",
       "      <td>MOVIE</td>\n",
       "      <td>12-year-old Regan MacNeil begins to adapt an e...</td>\n",
       "      <td>1973</td>\n",
       "      <td>R</td>\n",
       "      <td>133</td>\n",
       "      <td>['horror']</td>\n",
       "      <td>['US']</td>\n",
       "      <td>NaN</td>\n",
       "      <td>tt0070047</td>\n",
       "      <td>8.1</td>\n",
       "      <td>391942.0</td>\n",
       "      <td>95.337</td>\n",
       "      <td>7.7</td>\n",
       "    </tr>\n",
       "  </tbody>\n",
       "</table>\n",
       "</div>"
      ],
      "text/plain": [
       "         id                                title   type  \\\n",
       "0  ts300399  Five Came Back: The Reference Films   SHOW   \n",
       "1   tm84618                          Taxi Driver  MOVIE   \n",
       "2  tm127384      Monty Python and the Holy Grail  MOVIE   \n",
       "3   tm70993                        Life of Brian  MOVIE   \n",
       "4  tm190788                         The Exorcist  MOVIE   \n",
       "\n",
       "                                         description  release_year  \\\n",
       "0  This collection includes 12 World War II-era p...          1945   \n",
       "1  A mentally unstable Vietnam War veteran works ...          1976   \n",
       "2  King Arthur, accompanied by his squire, recrui...          1975   \n",
       "3  Brian Cohen is an average young Jewish man, bu...          1979   \n",
       "4  12-year-old Regan MacNeil begins to adapt an e...          1973   \n",
       "\n",
       "  age_certification  runtime                 genres production_countries  \\\n",
       "0             TV-MA       48      ['documentation']               ['US']   \n",
       "1                 R      113     ['crime', 'drama']               ['US']   \n",
       "2                PG       91  ['comedy', 'fantasy']               ['GB']   \n",
       "3                 R       94             ['comedy']               ['GB']   \n",
       "4                 R      133             ['horror']               ['US']   \n",
       "\n",
       "   seasons    imdb_id  imdb_score  imdb_votes  tmdb_popularity  tmdb_score  \n",
       "0      1.0        NaN         NaN         NaN            0.600         NaN  \n",
       "1      NaN  tt0075314         8.3    795222.0           27.612         8.2  \n",
       "2      NaN  tt0071853         8.2    530877.0           18.216         7.8  \n",
       "3      NaN  tt0079470         8.0    392419.0           17.505         7.8  \n",
       "4      NaN  tt0070047         8.1    391942.0           95.337         7.7  "
      ]
     },
     "execution_count": 2,
     "metadata": {},
     "output_type": "execute_result"
    }
   ],
   "source": [
    "df =pd.read_csv(\"/kaggle/input/netflix-tv-shows-and-movies/titles.csv\")\n",
    "df.head()"
   ]
  },
  {
   "cell_type": "code",
   "execution_count": 3,
   "id": "e4c90327",
   "metadata": {
    "execution": {
     "iopub.execute_input": "2022-06-20T07:12:27.562501Z",
     "iopub.status.busy": "2022-06-20T07:12:27.561710Z",
     "iopub.status.idle": "2022-06-20T07:12:27.571815Z",
     "shell.execute_reply": "2022-06-20T07:12:27.571120Z"
    },
    "papermill": {
     "duration": 0.022149,
     "end_time": "2022-06-20T07:12:27.573402",
     "exception": false,
     "start_time": "2022-06-20T07:12:27.551253",
     "status": "completed"
    },
    "tags": []
   },
   "outputs": [
    {
     "data": {
      "text/plain": [
       "id                         0\n",
       "title                      1\n",
       "type                       0\n",
       "description               18\n",
       "release_year               0\n",
       "age_certification       2610\n",
       "runtime                    0\n",
       "genres                     0\n",
       "production_countries       0\n",
       "seasons                 3759\n",
       "imdb_id                  444\n",
       "imdb_score               523\n",
       "imdb_votes               539\n",
       "tmdb_popularity           94\n",
       "tmdb_score               318\n",
       "dtype: int64"
      ]
     },
     "execution_count": 3,
     "metadata": {},
     "output_type": "execute_result"
    }
   ],
   "source": [
    "df.isnull().sum()"
   ]
  },
  {
   "cell_type": "code",
   "execution_count": 4,
   "id": "7c197fac",
   "metadata": {
    "execution": {
     "iopub.execute_input": "2022-06-20T07:12:27.593608Z",
     "iopub.status.busy": "2022-06-20T07:12:27.593202Z",
     "iopub.status.idle": "2022-06-20T07:12:27.618386Z",
     "shell.execute_reply": "2022-06-20T07:12:27.617144Z"
    },
    "papermill": {
     "duration": 0.038462,
     "end_time": "2022-06-20T07:12:27.621227",
     "exception": false,
     "start_time": "2022-06-20T07:12:27.582765",
     "status": "completed"
    },
    "tags": []
   },
   "outputs": [
    {
     "name": "stdout",
     "output_type": "stream",
     "text": [
      "<class 'pandas.core.frame.DataFrame'>\n",
      "RangeIndex: 5806 entries, 0 to 5805\n",
      "Data columns (total 15 columns):\n",
      " #   Column                Non-Null Count  Dtype  \n",
      "---  ------                --------------  -----  \n",
      " 0   id                    5806 non-null   object \n",
      " 1   title                 5805 non-null   object \n",
      " 2   type                  5806 non-null   object \n",
      " 3   description           5788 non-null   object \n",
      " 4   release_year          5806 non-null   int64  \n",
      " 5   age_certification     3196 non-null   object \n",
      " 6   runtime               5806 non-null   int64  \n",
      " 7   genres                5806 non-null   object \n",
      " 8   production_countries  5806 non-null   object \n",
      " 9   seasons               2047 non-null   float64\n",
      " 10  imdb_id               5362 non-null   object \n",
      " 11  imdb_score            5283 non-null   float64\n",
      " 12  imdb_votes            5267 non-null   float64\n",
      " 13  tmdb_popularity       5712 non-null   float64\n",
      " 14  tmdb_score            5488 non-null   float64\n",
      "dtypes: float64(5), int64(2), object(8)\n",
      "memory usage: 680.5+ KB\n"
     ]
    }
   ],
   "source": [
    "df.info()"
   ]
  },
  {
   "cell_type": "code",
   "execution_count": 5,
   "id": "094a3b3c",
   "metadata": {
    "execution": {
     "iopub.execute_input": "2022-06-20T07:12:27.643261Z",
     "iopub.status.busy": "2022-06-20T07:12:27.642543Z",
     "iopub.status.idle": "2022-06-20T07:12:27.649911Z",
     "shell.execute_reply": "2022-06-20T07:12:27.649149Z"
    },
    "papermill": {
     "duration": 0.020225,
     "end_time": "2022-06-20T07:12:27.651879",
     "exception": false,
     "start_time": "2022-06-20T07:12:27.631654",
     "status": "completed"
    },
    "tags": []
   },
   "outputs": [],
   "source": [
    "df.drop(['description', 'imdb_id', 'imdb_votes', 'imdb_score'], axis=1, inplace = True)"
   ]
  },
  {
   "cell_type": "code",
   "execution_count": 6,
   "id": "457e235b",
   "metadata": {
    "execution": {
     "iopub.execute_input": "2022-06-20T07:12:27.672997Z",
     "iopub.status.busy": "2022-06-20T07:12:27.672199Z",
     "iopub.status.idle": "2022-06-20T07:12:27.678587Z",
     "shell.execute_reply": "2022-06-20T07:12:27.677507Z"
    },
    "papermill": {
     "duration": 0.018596,
     "end_time": "2022-06-20T07:12:27.680486",
     "exception": false,
     "start_time": "2022-06-20T07:12:27.661890",
     "status": "completed"
    },
    "tags": []
   },
   "outputs": [
    {
     "data": {
      "text/plain": [
       "(5806, 11)"
      ]
     },
     "execution_count": 6,
     "metadata": {},
     "output_type": "execute_result"
    }
   ],
   "source": [
    "df.shape"
   ]
  },
  {
   "cell_type": "code",
   "execution_count": 7,
   "id": "965c30e4",
   "metadata": {
    "execution": {
     "iopub.execute_input": "2022-06-20T07:12:27.701712Z",
     "iopub.status.busy": "2022-06-20T07:12:27.701177Z",
     "iopub.status.idle": "2022-06-20T07:12:27.712850Z",
     "shell.execute_reply": "2022-06-20T07:12:27.712252Z"
    },
    "papermill": {
     "duration": 0.02408,
     "end_time": "2022-06-20T07:12:27.714585",
     "exception": false,
     "start_time": "2022-06-20T07:12:27.690505",
     "status": "completed"
    },
    "tags": []
   },
   "outputs": [
    {
     "data": {
      "text/plain": [
       "id                      0\n",
       "title                   0\n",
       "type                    0\n",
       "release_year            0\n",
       "age_certification       0\n",
       "runtime                 0\n",
       "genres                  0\n",
       "production_countries    0\n",
       "seasons                 0\n",
       "tmdb_popularity         0\n",
       "tmdb_score              0\n",
       "dtype: int64"
      ]
     },
     "execution_count": 7,
     "metadata": {},
     "output_type": "execute_result"
    }
   ],
   "source": [
    "df.dropna(axis=0, how='any', inplace = True)\n",
    "\n",
    "df.isnull().sum()"
   ]
  },
  {
   "cell_type": "code",
   "execution_count": 8,
   "id": "5bfa151a",
   "metadata": {
    "execution": {
     "iopub.execute_input": "2022-06-20T07:12:27.735913Z",
     "iopub.status.busy": "2022-06-20T07:12:27.735222Z",
     "iopub.status.idle": "2022-06-20T07:12:27.751487Z",
     "shell.execute_reply": "2022-06-20T07:12:27.750455Z"
    },
    "papermill": {
     "duration": 0.029437,
     "end_time": "2022-06-20T07:12:27.753836",
     "exception": false,
     "start_time": "2022-06-20T07:12:27.724399",
     "status": "completed"
    },
    "tags": []
   },
   "outputs": [
    {
     "data": {
      "text/html": [
       "<div>\n",
       "<style scoped>\n",
       "    .dataframe tbody tr th:only-of-type {\n",
       "        vertical-align: middle;\n",
       "    }\n",
       "\n",
       "    .dataframe tbody tr th {\n",
       "        vertical-align: top;\n",
       "    }\n",
       "\n",
       "    .dataframe thead th {\n",
       "        text-align: right;\n",
       "    }\n",
       "</style>\n",
       "<table border=\"1\" class=\"dataframe\">\n",
       "  <thead>\n",
       "    <tr style=\"text-align: right;\">\n",
       "      <th></th>\n",
       "      <th>id</th>\n",
       "      <th>title</th>\n",
       "      <th>type</th>\n",
       "      <th>release_year</th>\n",
       "      <th>age_certification</th>\n",
       "      <th>runtime</th>\n",
       "      <th>genres</th>\n",
       "      <th>production_countries</th>\n",
       "      <th>seasons</th>\n",
       "      <th>tmdb_popularity</th>\n",
       "      <th>tmdb_score</th>\n",
       "    </tr>\n",
       "  </thead>\n",
       "  <tbody>\n",
       "    <tr>\n",
       "      <th>5</th>\n",
       "      <td>ts22164</td>\n",
       "      <td>Monty Python's Flying Circus</td>\n",
       "      <td>SHOW</td>\n",
       "      <td>1969</td>\n",
       "      <td>TV-14</td>\n",
       "      <td>30</td>\n",
       "      <td>['comedy', 'european']</td>\n",
       "      <td>['GB']</td>\n",
       "      <td>4.0</td>\n",
       "      <td>12.919</td>\n",
       "      <td>8.3</td>\n",
       "    </tr>\n",
       "    <tr>\n",
       "      <th>29</th>\n",
       "      <td>ts45948</td>\n",
       "      <td>Monty Python's Fliegender Zirkus</td>\n",
       "      <td>SHOW</td>\n",
       "      <td>1972</td>\n",
       "      <td>TV-MA</td>\n",
       "      <td>43</td>\n",
       "      <td>['comedy']</td>\n",
       "      <td>[]</td>\n",
       "      <td>1.0</td>\n",
       "      <td>1.490</td>\n",
       "      <td>7.0</td>\n",
       "    </tr>\n",
       "    <tr>\n",
       "      <th>47</th>\n",
       "      <td>ts20681</td>\n",
       "      <td>Seinfeld</td>\n",
       "      <td>SHOW</td>\n",
       "      <td>1989</td>\n",
       "      <td>TV-PG</td>\n",
       "      <td>24</td>\n",
       "      <td>['comedy']</td>\n",
       "      <td>['US']</td>\n",
       "      <td>9.0</td>\n",
       "      <td>128.743</td>\n",
       "      <td>8.3</td>\n",
       "    </tr>\n",
       "    <tr>\n",
       "      <th>55</th>\n",
       "      <td>ts22082</td>\n",
       "      <td>Knight Rider</td>\n",
       "      <td>SHOW</td>\n",
       "      <td>1982</td>\n",
       "      <td>TV-PG</td>\n",
       "      <td>51</td>\n",
       "      <td>['action', 'scifi', 'crime', 'drama']</td>\n",
       "      <td>['US']</td>\n",
       "      <td>4.0</td>\n",
       "      <td>44.378</td>\n",
       "      <td>7.5</td>\n",
       "    </tr>\n",
       "    <tr>\n",
       "      <th>57</th>\n",
       "      <td>ts21715</td>\n",
       "      <td>Thomas &amp; Friends</td>\n",
       "      <td>SHOW</td>\n",
       "      <td>1984</td>\n",
       "      <td>TV-Y</td>\n",
       "      <td>10</td>\n",
       "      <td>['family', 'comedy', 'music', 'action', 'anima...</td>\n",
       "      <td>['GB']</td>\n",
       "      <td>24.0</td>\n",
       "      <td>49.384</td>\n",
       "      <td>6.6</td>\n",
       "    </tr>\n",
       "  </tbody>\n",
       "</table>\n",
       "</div>"
      ],
      "text/plain": [
       "         id                             title  type  release_year  \\\n",
       "5   ts22164      Monty Python's Flying Circus  SHOW          1969   \n",
       "29  ts45948  Monty Python's Fliegender Zirkus  SHOW          1972   \n",
       "47  ts20681                          Seinfeld  SHOW          1989   \n",
       "55  ts22082                      Knight Rider  SHOW          1982   \n",
       "57  ts21715                  Thomas & Friends  SHOW          1984   \n",
       "\n",
       "   age_certification  runtime  \\\n",
       "5              TV-14       30   \n",
       "29             TV-MA       43   \n",
       "47             TV-PG       24   \n",
       "55             TV-PG       51   \n",
       "57              TV-Y       10   \n",
       "\n",
       "                                               genres production_countries  \\\n",
       "5                              ['comedy', 'european']               ['GB']   \n",
       "29                                         ['comedy']                   []   \n",
       "47                                         ['comedy']               ['US']   \n",
       "55              ['action', 'scifi', 'crime', 'drama']               ['US']   \n",
       "57  ['family', 'comedy', 'music', 'action', 'anima...               ['GB']   \n",
       "\n",
       "    seasons  tmdb_popularity  tmdb_score  \n",
       "5       4.0           12.919         8.3  \n",
       "29      1.0            1.490         7.0  \n",
       "47      9.0          128.743         8.3  \n",
       "55      4.0           44.378         7.5  \n",
       "57     24.0           49.384         6.6  "
      ]
     },
     "execution_count": 8,
     "metadata": {},
     "output_type": "execute_result"
    }
   ],
   "source": [
    "df.head()"
   ]
  },
  {
   "cell_type": "code",
   "execution_count": 9,
   "id": "04aae08e",
   "metadata": {
    "execution": {
     "iopub.execute_input": "2022-06-20T07:12:27.775540Z",
     "iopub.status.busy": "2022-06-20T07:12:27.774769Z",
     "iopub.status.idle": "2022-06-20T07:12:27.780908Z",
     "shell.execute_reply": "2022-06-20T07:12:27.780170Z"
    },
    "papermill": {
     "duration": 0.018766,
     "end_time": "2022-06-20T07:12:27.782596",
     "exception": false,
     "start_time": "2022-06-20T07:12:27.763830",
     "status": "completed"
    },
    "tags": []
   },
   "outputs": [
    {
     "data": {
      "text/plain": [
       "(1683, 11)"
      ]
     },
     "execution_count": 9,
     "metadata": {},
     "output_type": "execute_result"
    }
   ],
   "source": [
    "df.shape"
   ]
  },
  {
   "cell_type": "code",
   "execution_count": 10,
   "id": "dfe6d911",
   "metadata": {
    "execution": {
     "iopub.execute_input": "2022-06-20T07:12:27.804645Z",
     "iopub.status.busy": "2022-06-20T07:12:27.803813Z",
     "iopub.status.idle": "2022-06-20T07:12:27.974127Z",
     "shell.execute_reply": "2022-06-20T07:12:27.973157Z"
    },
    "papermill": {
     "duration": 0.183744,
     "end_time": "2022-06-20T07:12:27.976197",
     "exception": false,
     "start_time": "2022-06-20T07:12:27.792453",
     "status": "completed"
    },
    "tags": []
   },
   "outputs": [
    {
     "data": {
      "text/html": [
       "<div>\n",
       "<style scoped>\n",
       "    .dataframe tbody tr th:only-of-type {\n",
       "        vertical-align: middle;\n",
       "    }\n",
       "\n",
       "    .dataframe tbody tr th {\n",
       "        vertical-align: top;\n",
       "    }\n",
       "\n",
       "    .dataframe thead th {\n",
       "        text-align: right;\n",
       "    }\n",
       "</style>\n",
       "<table border=\"1\" class=\"dataframe\">\n",
       "  <thead>\n",
       "    <tr style=\"text-align: right;\">\n",
       "      <th></th>\n",
       "      <th>person_id</th>\n",
       "      <th>id</th>\n",
       "      <th>name</th>\n",
       "      <th>character</th>\n",
       "      <th>role</th>\n",
       "    </tr>\n",
       "  </thead>\n",
       "  <tbody>\n",
       "    <tr>\n",
       "      <th>0</th>\n",
       "      <td>3748</td>\n",
       "      <td>tm84618</td>\n",
       "      <td>Robert De Niro</td>\n",
       "      <td>Travis Bickle</td>\n",
       "      <td>ACTOR</td>\n",
       "    </tr>\n",
       "    <tr>\n",
       "      <th>1</th>\n",
       "      <td>14658</td>\n",
       "      <td>tm84618</td>\n",
       "      <td>Jodie Foster</td>\n",
       "      <td>Iris Steensma</td>\n",
       "      <td>ACTOR</td>\n",
       "    </tr>\n",
       "    <tr>\n",
       "      <th>2</th>\n",
       "      <td>7064</td>\n",
       "      <td>tm84618</td>\n",
       "      <td>Albert Brooks</td>\n",
       "      <td>Tom</td>\n",
       "      <td>ACTOR</td>\n",
       "    </tr>\n",
       "    <tr>\n",
       "      <th>3</th>\n",
       "      <td>3739</td>\n",
       "      <td>tm84618</td>\n",
       "      <td>Harvey Keitel</td>\n",
       "      <td>Matthew 'Sport' Higgins</td>\n",
       "      <td>ACTOR</td>\n",
       "    </tr>\n",
       "    <tr>\n",
       "      <th>4</th>\n",
       "      <td>48933</td>\n",
       "      <td>tm84618</td>\n",
       "      <td>Cybill Shepherd</td>\n",
       "      <td>Betsy</td>\n",
       "      <td>ACTOR</td>\n",
       "    </tr>\n",
       "  </tbody>\n",
       "</table>\n",
       "</div>"
      ],
      "text/plain": [
       "   person_id       id             name                character   role\n",
       "0       3748  tm84618   Robert De Niro            Travis Bickle  ACTOR\n",
       "1      14658  tm84618     Jodie Foster            Iris Steensma  ACTOR\n",
       "2       7064  tm84618    Albert Brooks                      Tom  ACTOR\n",
       "3       3739  tm84618    Harvey Keitel  Matthew 'Sport' Higgins  ACTOR\n",
       "4      48933  tm84618  Cybill Shepherd                    Betsy  ACTOR"
      ]
     },
     "execution_count": 10,
     "metadata": {},
     "output_type": "execute_result"
    }
   ],
   "source": [
    "credit = pd.read_csv(\"/kaggle/input/netflix-tv-shows-and-movies/credits.csv\")\n",
    "credit.head()"
   ]
  },
  {
   "cell_type": "code",
   "execution_count": 11,
   "id": "7807d5db",
   "metadata": {
    "execution": {
     "iopub.execute_input": "2022-06-20T07:12:27.997733Z",
     "iopub.status.busy": "2022-06-20T07:12:27.997313Z",
     "iopub.status.idle": "2022-06-20T07:12:28.023578Z",
     "shell.execute_reply": "2022-06-20T07:12:28.022293Z"
    },
    "papermill": {
     "duration": 0.039972,
     "end_time": "2022-06-20T07:12:28.026204",
     "exception": false,
     "start_time": "2022-06-20T07:12:27.986232",
     "status": "completed"
    },
    "tags": []
   },
   "outputs": [
    {
     "name": "stdout",
     "output_type": "stream",
     "text": [
      "<class 'pandas.core.frame.DataFrame'>\n",
      "RangeIndex: 77213 entries, 0 to 77212\n",
      "Data columns (total 5 columns):\n",
      " #   Column     Non-Null Count  Dtype \n",
      "---  ------     --------------  ----- \n",
      " 0   person_id  77213 non-null  int64 \n",
      " 1   id         77213 non-null  object\n",
      " 2   name       77213 non-null  object\n",
      " 3   character  67586 non-null  object\n",
      " 4   role       77213 non-null  object\n",
      "dtypes: int64(1), object(4)\n",
      "memory usage: 2.9+ MB\n"
     ]
    }
   ],
   "source": [
    "credit.info()"
   ]
  },
  {
   "cell_type": "code",
   "execution_count": 12,
   "id": "01d4bb30",
   "metadata": {
    "execution": {
     "iopub.execute_input": "2022-06-20T07:12:28.049223Z",
     "iopub.status.busy": "2022-06-20T07:12:28.048839Z",
     "iopub.status.idle": "2022-06-20T07:12:28.068379Z",
     "shell.execute_reply": "2022-06-20T07:12:28.067290Z"
    },
    "papermill": {
     "duration": 0.033074,
     "end_time": "2022-06-20T07:12:28.070331",
     "exception": false,
     "start_time": "2022-06-20T07:12:28.037257",
     "status": "completed"
    },
    "tags": []
   },
   "outputs": [
    {
     "data": {
      "text/html": [
       "<div>\n",
       "<style scoped>\n",
       "    .dataframe tbody tr th:only-of-type {\n",
       "        vertical-align: middle;\n",
       "    }\n",
       "\n",
       "    .dataframe tbody tr th {\n",
       "        vertical-align: top;\n",
       "    }\n",
       "\n",
       "    .dataframe thead th {\n",
       "        text-align: right;\n",
       "    }\n",
       "</style>\n",
       "<table border=\"1\" class=\"dataframe\">\n",
       "  <thead>\n",
       "    <tr style=\"text-align: right;\">\n",
       "      <th></th>\n",
       "      <th>person_id</th>\n",
       "    </tr>\n",
       "  </thead>\n",
       "  <tbody>\n",
       "    <tr>\n",
       "      <th>count</th>\n",
       "      <td>7.721300e+04</td>\n",
       "    </tr>\n",
       "    <tr>\n",
       "      <th>mean</th>\n",
       "      <td>4.994603e+05</td>\n",
       "    </tr>\n",
       "    <tr>\n",
       "      <th>std</th>\n",
       "      <td>6.128431e+05</td>\n",
       "    </tr>\n",
       "    <tr>\n",
       "      <th>min</th>\n",
       "      <td>7.000000e+00</td>\n",
       "    </tr>\n",
       "    <tr>\n",
       "      <th>25%</th>\n",
       "      <td>4.158400e+04</td>\n",
       "    </tr>\n",
       "    <tr>\n",
       "      <th>50%</th>\n",
       "      <td>1.829850e+05</td>\n",
       "    </tr>\n",
       "    <tr>\n",
       "      <th>75%</th>\n",
       "      <td>8.415570e+05</td>\n",
       "    </tr>\n",
       "    <tr>\n",
       "      <th>max</th>\n",
       "      <td>2.371585e+06</td>\n",
       "    </tr>\n",
       "  </tbody>\n",
       "</table>\n",
       "</div>"
      ],
      "text/plain": [
       "          person_id\n",
       "count  7.721300e+04\n",
       "mean   4.994603e+05\n",
       "std    6.128431e+05\n",
       "min    7.000000e+00\n",
       "25%    4.158400e+04\n",
       "50%    1.829850e+05\n",
       "75%    8.415570e+05\n",
       "max    2.371585e+06"
      ]
     },
     "execution_count": 12,
     "metadata": {},
     "output_type": "execute_result"
    }
   ],
   "source": [
    "credit.describe()"
   ]
  },
  {
   "cell_type": "code",
   "execution_count": 13,
   "id": "d86bb54b",
   "metadata": {
    "execution": {
     "iopub.execute_input": "2022-06-20T07:12:28.092966Z",
     "iopub.status.busy": "2022-06-20T07:12:28.092057Z",
     "iopub.status.idle": "2022-06-20T07:12:28.098117Z",
     "shell.execute_reply": "2022-06-20T07:12:28.097172Z"
    },
    "papermill": {
     "duration": 0.019358,
     "end_time": "2022-06-20T07:12:28.099951",
     "exception": false,
     "start_time": "2022-06-20T07:12:28.080593",
     "status": "completed"
    },
    "tags": []
   },
   "outputs": [
    {
     "data": {
      "text/plain": [
       "(77213, 5)"
      ]
     },
     "execution_count": 13,
     "metadata": {},
     "output_type": "execute_result"
    }
   ],
   "source": [
    "credit.shape"
   ]
  },
  {
   "cell_type": "code",
   "execution_count": 14,
   "id": "19c3306e",
   "metadata": {
    "execution": {
     "iopub.execute_input": "2022-06-20T07:12:28.122246Z",
     "iopub.status.busy": "2022-06-20T07:12:28.121845Z",
     "iopub.status.idle": "2022-06-20T07:12:28.144645Z",
     "shell.execute_reply": "2022-06-20T07:12:28.143974Z"
    },
    "papermill": {
     "duration": 0.035905,
     "end_time": "2022-06-20T07:12:28.146287",
     "exception": false,
     "start_time": "2022-06-20T07:12:28.110382",
     "status": "completed"
    },
    "tags": []
   },
   "outputs": [
    {
     "data": {
      "text/plain": [
       "person_id       0\n",
       "id              0\n",
       "name            0\n",
       "character    9627\n",
       "role            0\n",
       "dtype: int64"
      ]
     },
     "execution_count": 14,
     "metadata": {},
     "output_type": "execute_result"
    }
   ],
   "source": [
    "credit.isnull().sum()"
   ]
  },
  {
   "cell_type": "code",
   "execution_count": 15,
   "id": "4fd66f98",
   "metadata": {
    "execution": {
     "iopub.execute_input": "2022-06-20T07:12:28.168362Z",
     "iopub.status.busy": "2022-06-20T07:12:28.167968Z",
     "iopub.status.idle": "2022-06-20T07:12:28.174456Z",
     "shell.execute_reply": "2022-06-20T07:12:28.173820Z"
    },
    "papermill": {
     "duration": 0.019366,
     "end_time": "2022-06-20T07:12:28.176076",
     "exception": false,
     "start_time": "2022-06-20T07:12:28.156710",
     "status": "completed"
    },
    "tags": []
   },
   "outputs": [],
   "source": [
    "credit.drop(['character' , 'person_id'], axis=1, inplace = True)"
   ]
  },
  {
   "cell_type": "code",
   "execution_count": 16,
   "id": "ad218f46",
   "metadata": {
    "execution": {
     "iopub.execute_input": "2022-06-20T07:12:28.198748Z",
     "iopub.status.busy": "2022-06-20T07:12:28.198120Z",
     "iopub.status.idle": "2022-06-20T07:12:28.207183Z",
     "shell.execute_reply": "2022-06-20T07:12:28.206479Z"
    },
    "papermill": {
     "duration": 0.02248,
     "end_time": "2022-06-20T07:12:28.208817",
     "exception": false,
     "start_time": "2022-06-20T07:12:28.186337",
     "status": "completed"
    },
    "tags": []
   },
   "outputs": [
    {
     "data": {
      "text/html": [
       "<div>\n",
       "<style scoped>\n",
       "    .dataframe tbody tr th:only-of-type {\n",
       "        vertical-align: middle;\n",
       "    }\n",
       "\n",
       "    .dataframe tbody tr th {\n",
       "        vertical-align: top;\n",
       "    }\n",
       "\n",
       "    .dataframe thead th {\n",
       "        text-align: right;\n",
       "    }\n",
       "</style>\n",
       "<table border=\"1\" class=\"dataframe\">\n",
       "  <thead>\n",
       "    <tr style=\"text-align: right;\">\n",
       "      <th></th>\n",
       "      <th>id</th>\n",
       "      <th>name</th>\n",
       "      <th>role</th>\n",
       "    </tr>\n",
       "  </thead>\n",
       "  <tbody>\n",
       "    <tr>\n",
       "      <th>0</th>\n",
       "      <td>tm84618</td>\n",
       "      <td>Robert De Niro</td>\n",
       "      <td>ACTOR</td>\n",
       "    </tr>\n",
       "    <tr>\n",
       "      <th>1</th>\n",
       "      <td>tm84618</td>\n",
       "      <td>Jodie Foster</td>\n",
       "      <td>ACTOR</td>\n",
       "    </tr>\n",
       "    <tr>\n",
       "      <th>2</th>\n",
       "      <td>tm84618</td>\n",
       "      <td>Albert Brooks</td>\n",
       "      <td>ACTOR</td>\n",
       "    </tr>\n",
       "    <tr>\n",
       "      <th>3</th>\n",
       "      <td>tm84618</td>\n",
       "      <td>Harvey Keitel</td>\n",
       "      <td>ACTOR</td>\n",
       "    </tr>\n",
       "    <tr>\n",
       "      <th>4</th>\n",
       "      <td>tm84618</td>\n",
       "      <td>Cybill Shepherd</td>\n",
       "      <td>ACTOR</td>\n",
       "    </tr>\n",
       "  </tbody>\n",
       "</table>\n",
       "</div>"
      ],
      "text/plain": [
       "        id             name   role\n",
       "0  tm84618   Robert De Niro  ACTOR\n",
       "1  tm84618     Jodie Foster  ACTOR\n",
       "2  tm84618    Albert Brooks  ACTOR\n",
       "3  tm84618    Harvey Keitel  ACTOR\n",
       "4  tm84618  Cybill Shepherd  ACTOR"
      ]
     },
     "execution_count": 16,
     "metadata": {},
     "output_type": "execute_result"
    }
   ],
   "source": [
    "credit.head()"
   ]
  },
  {
   "cell_type": "markdown",
   "id": "94a51e43",
   "metadata": {
    "papermill": {
     "duration": 0.010402,
     "end_time": "2022-06-20T07:12:28.229659",
     "exception": false,
     "start_time": "2022-06-20T07:12:28.219257",
     "status": "completed"
    },
    "tags": []
   },
   "source": [
    "# Exploratory Analysis"
   ]
  },
  {
   "cell_type": "code",
   "execution_count": 17,
   "id": "af58d6fb",
   "metadata": {
    "execution": {
     "iopub.execute_input": "2022-06-20T07:12:28.253153Z",
     "iopub.status.busy": "2022-06-20T07:12:28.252498Z",
     "iopub.status.idle": "2022-06-20T07:12:28.259929Z",
     "shell.execute_reply": "2022-06-20T07:12:28.259150Z"
    },
    "papermill": {
     "duration": 0.02121,
     "end_time": "2022-06-20T07:12:28.261618",
     "exception": false,
     "start_time": "2022-06-20T07:12:28.240408",
     "status": "completed"
    },
    "tags": []
   },
   "outputs": [
    {
     "data": {
      "text/plain": [
       "['US']                687\n",
       "['JP']                143\n",
       "['KR']                114\n",
       "['GB']                108\n",
       "['ES']                 54\n",
       "                     ... \n",
       "['NG']                  1\n",
       "['AE']                  1\n",
       "['KR', 'US']            1\n",
       "['AE', 'SA', 'SY']      1\n",
       "['FR', 'IT']            1\n",
       "Name: production_countries, Length: 95, dtype: int64"
      ]
     },
     "execution_count": 17,
     "metadata": {},
     "output_type": "execute_result"
    }
   ],
   "source": [
    "df.production_countries.value_counts()"
   ]
  },
  {
   "cell_type": "code",
   "execution_count": 18,
   "id": "327081ba",
   "metadata": {
    "execution": {
     "iopub.execute_input": "2022-06-20T07:12:28.284195Z",
     "iopub.status.busy": "2022-06-20T07:12:28.283585Z",
     "iopub.status.idle": "2022-06-20T07:12:28.287938Z",
     "shell.execute_reply": "2022-06-20T07:12:28.287345Z"
    },
    "papermill": {
     "duration": 0.01744,
     "end_time": "2022-06-20T07:12:28.289579",
     "exception": false,
     "start_time": "2022-06-20T07:12:28.272139",
     "status": "completed"
    },
    "tags": []
   },
   "outputs": [],
   "source": [
    "#top 10 production countries\n",
    "\n",
    "top10_countries= df.production_countries.value_counts().head(10)"
   ]
  },
  {
   "cell_type": "code",
   "execution_count": 19,
   "id": "ca1a7b0b",
   "metadata": {
    "execution": {
     "iopub.execute_input": "2022-06-20T07:12:28.312765Z",
     "iopub.status.busy": "2022-06-20T07:12:28.311794Z",
     "iopub.status.idle": "2022-06-20T07:12:28.513612Z",
     "shell.execute_reply": "2022-06-20T07:12:28.512644Z"
    },
    "papermill": {
     "duration": 0.215542,
     "end_time": "2022-06-20T07:12:28.515541",
     "exception": false,
     "start_time": "2022-06-20T07:12:28.299999",
     "status": "completed"
    },
    "tags": []
   },
   "outputs": [
    {
     "data": {
      "image/png": "[encoded data removed]",
      "text/plain": [
       "<Figure size 648x432 with 1 Axes>"
      ]
     },
     "metadata": {
      "needs_background": "light"
     },
     "output_type": "display_data"
    }
   ],
   "source": [
    "top10_countries.plot(kind= 'bar', width = 0.8, figsize=(9,6),  color= 'r')\n",
    "plt.title(\"Top Production Houses in world\")\n",
    "plt.xlabel(\"Countries\")\n",
    "plt.ylabel(\"Production Count\")\n",
    "plt.show()"
   ]
  },
  {
   "cell_type": "markdown",
   "id": "ec499296",
   "metadata": {
    "papermill": {
     "duration": 0.010731,
     "end_time": "2022-06-20T07:12:28.537205",
     "exception": false,
     "start_time": "2022-06-20T07:12:28.526474",
     "status": "completed"
    },
    "tags": []
   },
   "source": [
    "From the graph it is clear that the most produced series/movies are in US followed by Japan with 143"
   ]
  },
  {
   "cell_type": "code",
   "execution_count": 20,
   "id": "b35339b5",
   "metadata": {
    "execution": {
     "iopub.execute_input": "2022-06-20T07:12:28.560382Z",
     "iopub.status.busy": "2022-06-20T07:12:28.559957Z",
     "iopub.status.idle": "2022-06-20T07:12:28.567568Z",
     "shell.execute_reply": "2022-06-20T07:12:28.566737Z"
    },
    "papermill": {
     "duration": 0.021503,
     "end_time": "2022-06-20T07:12:28.569511",
     "exception": false,
     "start_time": "2022-06-20T07:12:28.548008",
     "status": "completed"
    },
    "tags": []
   },
   "outputs": [
    {
     "data": {
      "text/plain": [
       "2018    251\n",
       "2021    250\n",
       "2020    246\n",
       "2019    245\n",
       "2017    152\n",
       "Name: release_year, dtype: int64"
      ]
     },
     "execution_count": 20,
     "metadata": {},
     "output_type": "execute_result"
    }
   ],
   "source": [
    "year_release = df.release_year.value_counts()\n",
    "year_release.head()"
   ]
  },
  {
   "cell_type": "code",
   "execution_count": 21,
   "id": "a4569dba",
   "metadata": {
    "execution": {
     "iopub.execute_input": "2022-06-20T07:12:28.593779Z",
     "iopub.status.busy": "2022-06-20T07:12:28.593043Z",
     "iopub.status.idle": "2022-06-20T07:12:28.749186Z",
     "shell.execute_reply": "2022-06-20T07:12:28.748161Z"
    },
    "papermill": {
     "duration": 0.171328,
     "end_time": "2022-06-20T07:12:28.752196",
     "exception": false,
     "start_time": "2022-06-20T07:12:28.580868",
     "status": "completed"
    },
    "tags": []
   },
   "outputs": [
    {
     "data": {
      "image/png": "[encoded data removed]",
      "text/plain": [
       "<Figure size 432x288 with 1 Axes>"
      ]
     },
     "metadata": {
      "needs_background": "light"
     },
     "output_type": "display_data"
    }
   ],
   "source": [
    "# plot a line graph to visualize the result\n",
    "sns.lineplot(data =year_release)\n",
    "plt.title('Total shows/movies released over the years')\n",
    "plt.xlim(1950, 2030)\n",
    "plt.xlabel('release year')\n",
    "plt.ylabel('total')\n",
    "plt.show()"
   ]
  },
  {
   "cell_type": "markdown",
   "id": "cc2b63fe",
   "metadata": {
    "papermill": {
     "duration": 0.01124,
     "end_time": "2022-06-20T07:12:28.778012",
     "exception": false,
     "start_time": "2022-06-20T07:12:28.766772",
     "status": "completed"
    },
    "tags": []
   },
   "source": [
    "The line graph shows a huge increase in production between 2010 and 2020. There has also been a great decrease in production from 2020 till date of this analysis."
   ]
  },
  {
   "cell_type": "markdown",
   "id": "f75b74ed",
   "metadata": {
    "papermill": {
     "duration": 0.011763,
     "end_time": "2022-06-20T07:12:28.801310",
     "exception": false,
     "start_time": "2022-06-20T07:12:28.789547",
     "status": "completed"
    },
    "tags": []
   },
   "source": [
    "# Age Certification"
   ]
  },
  {
   "cell_type": "markdown",
   "id": "bbafd357",
   "metadata": {
    "papermill": {
     "duration": 0.011342,
     "end_time": "2022-06-20T07:12:28.824206",
     "exception": false,
     "start_time": "2022-06-20T07:12:28.812864",
     "status": "completed"
    },
    "tags": []
   },
   "source": [
    "Check productions based on age certifications"
   ]
  },
  {
   "cell_type": "code",
   "execution_count": 22,
   "id": "e1b9ced0",
   "metadata": {
    "execution": {
     "iopub.execute_input": "2022-06-20T07:12:28.849364Z",
     "iopub.status.busy": "2022-06-20T07:12:28.848494Z",
     "iopub.status.idle": "2022-06-20T07:12:28.857179Z",
     "shell.execute_reply": "2022-06-20T07:12:28.856169Z"
    },
    "papermill": {
     "duration": 0.023325,
     "end_time": "2022-06-20T07:12:28.859114",
     "exception": false,
     "start_time": "2022-06-20T07:12:28.835789",
     "status": "completed"
    },
    "tags": []
   },
   "outputs": [
    {
     "data": {
      "text/plain": [
       "TV-MA    814\n",
       "TV-14    433\n",
       "TV-PG    167\n",
       "TV-Y7    103\n",
       "TV-Y      92\n",
       "Name: age_certification, dtype: int64"
      ]
     },
     "execution_count": 22,
     "metadata": {},
     "output_type": "execute_result"
    }
   ],
   "source": [
    "age_certificate = df.age_certification.value_counts()\n",
    "age_certificate.head()"
   ]
  },
  {
   "cell_type": "code",
   "execution_count": 23,
   "id": "8403b430",
   "metadata": {
    "execution": {
     "iopub.execute_input": "2022-06-20T07:12:28.884965Z",
     "iopub.status.busy": "2022-06-20T07:12:28.883758Z",
     "iopub.status.idle": "2022-06-20T07:12:29.030682Z",
     "shell.execute_reply": "2022-06-20T07:12:29.029939Z"
    },
    "papermill": {
     "duration": 0.161686,
     "end_time": "2022-06-20T07:12:29.032667",
     "exception": false,
     "start_time": "2022-06-20T07:12:28.870981",
     "status": "completed"
    },
    "tags": []
   },
   "outputs": [
    {
     "data": {
      "text/plain": [
       "Text(0, 0.5, 'Total')"
      ]
     },
     "execution_count": 23,
     "metadata": {},
     "output_type": "execute_result"
    },
    {
     "data": {
      "image/png": "[encoded data removed]",
      "text/plain": [
       "<Figure size 648x432 with 1 Axes>"
      ]
     },
     "metadata": {
      "needs_background": "light"
     },
     "output_type": "display_data"
    }
   ],
   "source": [
    "age_certificate.plot(kind= 'bar', width=0.8, figsize= (9,6), color= 'y')\n",
    "plt.title(\"Total Production based on age certification\")\n",
    "plt.xlabel(\"Age_certification\")\n",
    "plt.ylabel(\"Total\")"
   ]
  },
  {
   "cell_type": "markdown",
   "id": "337834cd",
   "metadata": {
    "papermill": {
     "duration": 0.011821,
     "end_time": "2022-06-20T07:12:29.056387",
     "exception": false,
     "start_time": "2022-06-20T07:12:29.044566",
     "status": "completed"
    },
    "tags": []
   },
   "source": [
    "# Where is Focus of Netflix these days?"
   ]
  },
  {
   "cell_type": "markdown",
   "id": "51521de1",
   "metadata": {
    "papermill": {
     "duration": 0.012417,
     "end_time": "2022-06-20T07:12:29.080985",
     "exception": false,
     "start_time": "2022-06-20T07:12:29.068568",
     "status": "completed"
    },
    "tags": []
   },
   "source": [
    "Is netflix focusing more on producing more web series or more movies"
   ]
  },
  {
   "cell_type": "code",
   "execution_count": 24,
   "id": "d89aeecf",
   "metadata": {
    "execution": {
     "iopub.execute_input": "2022-06-20T07:12:29.107222Z",
     "iopub.status.busy": "2022-06-20T07:12:29.106166Z",
     "iopub.status.idle": "2022-06-20T07:12:29.113695Z",
     "shell.execute_reply": "2022-06-20T07:12:29.112797Z"
    },
    "papermill": {
     "duration": 0.022639,
     "end_time": "2022-06-20T07:12:29.115553",
     "exception": false,
     "start_time": "2022-06-20T07:12:29.092914",
     "status": "completed"
    },
    "tags": []
   },
   "outputs": [
    {
     "data": {
      "text/plain": [
       "SHOW    1683\n",
       "Name: type, dtype: int64"
      ]
     },
     "execution_count": 24,
     "metadata": {},
     "output_type": "execute_result"
    }
   ],
   "source": [
    "data_type = df.type.value_counts()\n",
    "data_type.head()"
   ]
  },
  {
   "cell_type": "code",
   "execution_count": 25,
   "id": "ab7094e4",
   "metadata": {
    "execution": {
     "iopub.execute_input": "2022-06-20T07:12:29.141250Z",
     "iopub.status.busy": "2022-06-20T07:12:29.140770Z",
     "iopub.status.idle": "2022-06-20T07:12:29.231020Z",
     "shell.execute_reply": "2022-06-20T07:12:29.230401Z"
    },
    "papermill": {
     "duration": 0.106054,
     "end_time": "2022-06-20T07:12:29.233595",
     "exception": false,
     "start_time": "2022-06-20T07:12:29.127541",
     "status": "completed"
    },
    "tags": []
   },
   "outputs": [
    {
     "data": {
      "image/png": "[encoded data removed]",
      "text/plain": [
       "<Figure size 720x360 with 1 Axes>"
      ]
     },
     "metadata": {},
     "output_type": "display_data"
    }
   ],
   "source": [
    "data_type.plot(kind= 'pie', figsize=(10, 5), autopct= '%1.1f%%')\n",
    "plt.title('Type distribution')\n",
    "plt.show()"
   ]
  },
  {
   "cell_type": "markdown",
   "id": "b98396c5",
   "metadata": {
    "papermill": {
     "duration": 0.024437,
     "end_time": "2022-06-20T07:12:29.282503",
     "exception": false,
     "start_time": "2022-06-20T07:12:29.258066",
     "status": "completed"
    },
    "tags": []
   },
   "source": [
    "From above we can see that these days Netflix is focusing more on producing web series. "
   ]
  },
  {
   "cell_type": "markdown",
   "id": "de767b49",
   "metadata": {
    "papermill": {
     "duration": 0.023491,
     "end_time": "2022-06-20T07:12:29.330550",
     "exception": false,
     "start_time": "2022-06-20T07:12:29.307059",
     "status": "completed"
    },
    "tags": []
   },
   "source": [
    "# Top rated TV shows/Movies on netflix"
   ]
  },
  {
   "cell_type": "code",
   "execution_count": 26,
   "id": "1641e148",
   "metadata": {
    "execution": {
     "iopub.execute_input": "2022-06-20T07:12:29.356628Z",
     "iopub.status.busy": "2022-06-20T07:12:29.355687Z",
     "iopub.status.idle": "2022-06-20T07:12:29.370188Z",
     "shell.execute_reply": "2022-06-20T07:12:29.369532Z"
    },
    "papermill": {
     "duration": 0.029042,
     "end_time": "2022-06-20T07:12:29.371918",
     "exception": false,
     "start_time": "2022-06-20T07:12:29.342876",
     "status": "completed"
    },
    "tags": []
   },
   "outputs": [
    {
     "data": {
      "text/html": [
       "<div>\n",
       "<style scoped>\n",
       "    .dataframe tbody tr th:only-of-type {\n",
       "        vertical-align: middle;\n",
       "    }\n",
       "\n",
       "    .dataframe tbody tr th {\n",
       "        vertical-align: top;\n",
       "    }\n",
       "\n",
       "    .dataframe thead th {\n",
       "        text-align: right;\n",
       "    }\n",
       "</style>\n",
       "<table border=\"1\" class=\"dataframe\">\n",
       "  <thead>\n",
       "    <tr style=\"text-align: right;\">\n",
       "      <th></th>\n",
       "      <th>id</th>\n",
       "      <th>title</th>\n",
       "      <th>type</th>\n",
       "      <th>release_year</th>\n",
       "      <th>age_certification</th>\n",
       "      <th>runtime</th>\n",
       "      <th>genres</th>\n",
       "      <th>production_countries</th>\n",
       "      <th>seasons</th>\n",
       "      <th>tmdb_popularity</th>\n",
       "      <th>tmdb_score</th>\n",
       "    </tr>\n",
       "  </thead>\n",
       "  <tbody>\n",
       "    <tr>\n",
       "      <th>5</th>\n",
       "      <td>ts22164</td>\n",
       "      <td>Monty Python's Flying Circus</td>\n",
       "      <td>SHOW</td>\n",
       "      <td>1969</td>\n",
       "      <td>TV-14</td>\n",
       "      <td>30</td>\n",
       "      <td>['comedy', 'european']</td>\n",
       "      <td>['GB']</td>\n",
       "      <td>4.0</td>\n",
       "      <td>12.919</td>\n",
       "      <td>8.3</td>\n",
       "    </tr>\n",
       "    <tr>\n",
       "      <th>29</th>\n",
       "      <td>ts45948</td>\n",
       "      <td>Monty Python's Fliegender Zirkus</td>\n",
       "      <td>SHOW</td>\n",
       "      <td>1972</td>\n",
       "      <td>TV-MA</td>\n",
       "      <td>43</td>\n",
       "      <td>['comedy']</td>\n",
       "      <td>[]</td>\n",
       "      <td>1.0</td>\n",
       "      <td>1.490</td>\n",
       "      <td>7.0</td>\n",
       "    </tr>\n",
       "    <tr>\n",
       "      <th>47</th>\n",
       "      <td>ts20681</td>\n",
       "      <td>Seinfeld</td>\n",
       "      <td>SHOW</td>\n",
       "      <td>1989</td>\n",
       "      <td>TV-PG</td>\n",
       "      <td>24</td>\n",
       "      <td>['comedy']</td>\n",
       "      <td>['US']</td>\n",
       "      <td>9.0</td>\n",
       "      <td>128.743</td>\n",
       "      <td>8.3</td>\n",
       "    </tr>\n",
       "    <tr>\n",
       "      <th>55</th>\n",
       "      <td>ts22082</td>\n",
       "      <td>Knight Rider</td>\n",
       "      <td>SHOW</td>\n",
       "      <td>1982</td>\n",
       "      <td>TV-PG</td>\n",
       "      <td>51</td>\n",
       "      <td>['action', 'scifi', 'crime', 'drama']</td>\n",
       "      <td>['US']</td>\n",
       "      <td>4.0</td>\n",
       "      <td>44.378</td>\n",
       "      <td>7.5</td>\n",
       "    </tr>\n",
       "    <tr>\n",
       "      <th>57</th>\n",
       "      <td>ts21715</td>\n",
       "      <td>Thomas &amp; Friends</td>\n",
       "      <td>SHOW</td>\n",
       "      <td>1984</td>\n",
       "      <td>TV-Y</td>\n",
       "      <td>10</td>\n",
       "      <td>['family', 'comedy', 'music', 'action', 'anima...</td>\n",
       "      <td>['GB']</td>\n",
       "      <td>24.0</td>\n",
       "      <td>49.384</td>\n",
       "      <td>6.6</td>\n",
       "    </tr>\n",
       "  </tbody>\n",
       "</table>\n",
       "</div>"
      ],
      "text/plain": [
       "         id                             title  type  release_year  \\\n",
       "5   ts22164      Monty Python's Flying Circus  SHOW          1969   \n",
       "29  ts45948  Monty Python's Fliegender Zirkus  SHOW          1972   \n",
       "47  ts20681                          Seinfeld  SHOW          1989   \n",
       "55  ts22082                      Knight Rider  SHOW          1982   \n",
       "57  ts21715                  Thomas & Friends  SHOW          1984   \n",
       "\n",
       "   age_certification  runtime  \\\n",
       "5              TV-14       30   \n",
       "29             TV-MA       43   \n",
       "47             TV-PG       24   \n",
       "55             TV-PG       51   \n",
       "57              TV-Y       10   \n",
       "\n",
       "                                               genres production_countries  \\\n",
       "5                              ['comedy', 'european']               ['GB']   \n",
       "29                                         ['comedy']                   []   \n",
       "47                                         ['comedy']               ['US']   \n",
       "55              ['action', 'scifi', 'crime', 'drama']               ['US']   \n",
       "57  ['family', 'comedy', 'music', 'action', 'anima...               ['GB']   \n",
       "\n",
       "    seasons  tmdb_popularity  tmdb_score  \n",
       "5       4.0           12.919         8.3  \n",
       "29      1.0            1.490         7.0  \n",
       "47      9.0          128.743         8.3  \n",
       "55      4.0           44.378         7.5  \n",
       "57     24.0           49.384         6.6  "
      ]
     },
     "execution_count": 26,
     "metadata": {},
     "output_type": "execute_result"
    }
   ],
   "source": [
    "df.head()"
   ]
  },
  {
   "cell_type": "code",
   "execution_count": 27,
   "id": "b911e803",
   "metadata": {
    "execution": {
     "iopub.execute_input": "2022-06-20T07:12:29.398500Z",
     "iopub.status.busy": "2022-06-20T07:12:29.397691Z",
     "iopub.status.idle": "2022-06-20T07:12:29.416336Z",
     "shell.execute_reply": "2022-06-20T07:12:29.415289Z"
    },
    "papermill": {
     "duration": 0.034025,
     "end_time": "2022-06-20T07:12:29.418247",
     "exception": false,
     "start_time": "2022-06-20T07:12:29.384222",
     "status": "completed"
    },
    "tags": []
   },
   "outputs": [
    {
     "data": {
      "text/html": [
       "<div>\n",
       "<style scoped>\n",
       "    .dataframe tbody tr th:only-of-type {\n",
       "        vertical-align: middle;\n",
       "    }\n",
       "\n",
       "    .dataframe tbody tr th {\n",
       "        vertical-align: top;\n",
       "    }\n",
       "\n",
       "    .dataframe thead th {\n",
       "        text-align: right;\n",
       "    }\n",
       "</style>\n",
       "<table border=\"1\" class=\"dataframe\">\n",
       "  <thead>\n",
       "    <tr style=\"text-align: right;\">\n",
       "      <th></th>\n",
       "      <th>title</th>\n",
       "      <th>tmdb_score</th>\n",
       "      <th>tmdb_popularity</th>\n",
       "      <th>type</th>\n",
       "    </tr>\n",
       "  </thead>\n",
       "  <tbody>\n",
       "    <tr>\n",
       "      <th>1582</th>\n",
       "      <td>The Haunted House</td>\n",
       "      <td>10.0</td>\n",
       "      <td>13.649</td>\n",
       "      <td>SHOW</td>\n",
       "    </tr>\n",
       "    <tr>\n",
       "      <th>3988</th>\n",
       "      <td>Mighty Express</td>\n",
       "      <td>10.0</td>\n",
       "      <td>9.174</td>\n",
       "      <td>SHOW</td>\n",
       "    </tr>\n",
       "    <tr>\n",
       "      <th>4228</th>\n",
       "      <td>The Queen and the Conqueror</td>\n",
       "      <td>10.0</td>\n",
       "      <td>7.958</td>\n",
       "      <td>SHOW</td>\n",
       "    </tr>\n",
       "    <tr>\n",
       "      <th>5028</th>\n",
       "      <td>Smother-In-Law</td>\n",
       "      <td>10.0</td>\n",
       "      <td>7.430</td>\n",
       "      <td>SHOW</td>\n",
       "    </tr>\n",
       "    <tr>\n",
       "      <th>1600</th>\n",
       "      <td>Rainbow Ruby</td>\n",
       "      <td>10.0</td>\n",
       "      <td>6.616</td>\n",
       "      <td>SHOW</td>\n",
       "    </tr>\n",
       "    <tr>\n",
       "      <th>4645</th>\n",
       "      <td>The Charming Stepmom</td>\n",
       "      <td>10.0</td>\n",
       "      <td>6.550</td>\n",
       "      <td>SHOW</td>\n",
       "    </tr>\n",
       "    <tr>\n",
       "      <th>2182</th>\n",
       "      <td>Transformers: Rescue Bots Academy</td>\n",
       "      <td>10.0</td>\n",
       "      <td>6.511</td>\n",
       "      <td>SHOW</td>\n",
       "    </tr>\n",
       "    <tr>\n",
       "      <th>2786</th>\n",
       "      <td>The Unknown Hitman: The Story of El Cholo Adrián</td>\n",
       "      <td>10.0</td>\n",
       "      <td>6.419</td>\n",
       "      <td>SHOW</td>\n",
       "    </tr>\n",
       "    <tr>\n",
       "      <th>2194</th>\n",
       "      <td>Rainbow Rangers</td>\n",
       "      <td>10.0</td>\n",
       "      <td>5.692</td>\n",
       "      <td>SHOW</td>\n",
       "    </tr>\n",
       "    <tr>\n",
       "      <th>5765</th>\n",
       "      <td>Barbie: It Takes Two</td>\n",
       "      <td>10.0</td>\n",
       "      <td>5.321</td>\n",
       "      <td>SHOW</td>\n",
       "    </tr>\n",
       "  </tbody>\n",
       "</table>\n",
       "</div>"
      ],
      "text/plain": [
       "                                                 title  tmdb_score  \\\n",
       "1582                                 The Haunted House        10.0   \n",
       "3988                                    Mighty Express        10.0   \n",
       "4228                       The Queen and the Conqueror        10.0   \n",
       "5028                                    Smother-In-Law        10.0   \n",
       "1600                                      Rainbow Ruby        10.0   \n",
       "4645                              The Charming Stepmom        10.0   \n",
       "2182                 Transformers: Rescue Bots Academy        10.0   \n",
       "2786  The Unknown Hitman: The Story of El Cholo Adrián        10.0   \n",
       "2194                                   Rainbow Rangers        10.0   \n",
       "5765                              Barbie: It Takes Two        10.0   \n",
       "\n",
       "      tmdb_popularity  type  \n",
       "1582           13.649  SHOW  \n",
       "3988            9.174  SHOW  \n",
       "4228            7.958  SHOW  \n",
       "5028            7.430  SHOW  \n",
       "1600            6.616  SHOW  \n",
       "4645            6.550  SHOW  \n",
       "2182            6.511  SHOW  \n",
       "2786            6.419  SHOW  \n",
       "2194            5.692  SHOW  \n",
       "5765            5.321  SHOW  "
      ]
     },
     "execution_count": 27,
     "metadata": {},
     "output_type": "execute_result"
    }
   ],
   "source": [
    "#Sorting according to popularity and tmbd score of movie/tv shows\n",
    "top_10_based_on_tmdb_rating = df.sort_values(['tmdb_score', 'tmdb_popularity'], ascending= False)[['title','tmdb_score','tmdb_popularity', 'type']].head(10)\n",
    "top_10_based_on_tmdb_rating"
   ]
  },
  {
   "cell_type": "code",
   "execution_count": 28,
   "id": "8828fb94",
   "metadata": {
    "execution": {
     "iopub.execute_input": "2022-06-20T07:12:29.445703Z",
     "iopub.status.busy": "2022-06-20T07:12:29.445261Z",
     "iopub.status.idle": "2022-06-20T07:12:29.688910Z",
     "shell.execute_reply": "2022-06-20T07:12:29.688124Z"
    },
    "papermill": {
     "duration": 0.259566,
     "end_time": "2022-06-20T07:12:29.690864",
     "exception": false,
     "start_time": "2022-06-20T07:12:29.431298",
     "status": "completed"
    },
    "tags": []
   },
   "outputs": [
    {
     "data": {
      "image/png": "[encoded data removed]",
      "text/plain": [
       "<Figure size 648x432 with 1 Axes>"
      ]
     },
     "metadata": {
      "needs_background": "light"
     },
     "output_type": "display_data"
    }
   ],
   "source": [
    "top_10_based_on_tmdb_rating.plot(kind='barh', x = 'title', y = 'tmdb_popularity', figsize=(9, 6), color = 'orange')\n",
    "plt.title('Top 10 based on tmdb votes')\n",
    "plt.xlabel('tmdb_popularity')\n",
    "plt.ylabel('Title')\n",
    "plt.show()"
   ]
  },
  {
   "cell_type": "markdown",
   "id": "ddf25f85",
   "metadata": {
    "papermill": {
     "duration": 0.012894,
     "end_time": "2022-06-20T07:12:29.717139",
     "exception": false,
     "start_time": "2022-06-20T07:12:29.704245",
     "status": "completed"
    },
    "tags": []
   },
   "source": [
    "From the graph it is seen that Haunted House has more vote followed by Mighty Express"
   ]
  },
  {
   "cell_type": "markdown",
   "id": "0d8457bb",
   "metadata": {
    "execution": {
     "iopub.execute_input": "2022-06-20T06:49:20.460847Z",
     "iopub.status.busy": "2022-06-20T06:49:20.460440Z",
     "iopub.status.idle": "2022-06-20T06:49:20.466934Z",
     "shell.execute_reply": "2022-06-20T06:49:20.465945Z",
     "shell.execute_reply.started": "2022-06-20T06:49:20.460813Z"
    },
    "papermill": {
     "duration": 0.012743,
     "end_time": "2022-06-20T07:12:29.742985",
     "exception": false,
     "start_time": "2022-06-20T07:12:29.730242",
     "status": "completed"
    },
    "tags": []
   },
   "source": [
    "# Top directors and actors"
   ]
  },
  {
   "cell_type": "code",
   "execution_count": 29,
   "id": "a4ddaf64",
   "metadata": {
    "execution": {
     "iopub.execute_input": "2022-06-20T07:12:29.770915Z",
     "iopub.status.busy": "2022-06-20T07:12:29.770207Z",
     "iopub.status.idle": "2022-06-20T07:12:29.821542Z",
     "shell.execute_reply": "2022-06-20T07:12:29.820555Z"
    },
    "papermill": {
     "duration": 0.067783,
     "end_time": "2022-06-20T07:12:29.823803",
     "exception": false,
     "start_time": "2022-06-20T07:12:29.756020",
     "status": "completed"
    },
    "tags": []
   },
   "outputs": [],
   "source": [
    "data = df.merge(credit, how='outer', on='id')"
   ]
  },
  {
   "cell_type": "code",
   "execution_count": 30,
   "id": "c1762b5a",
   "metadata": {
    "execution": {
     "iopub.execute_input": "2022-06-20T07:12:29.852498Z",
     "iopub.status.busy": "2022-06-20T07:12:29.851961Z",
     "iopub.status.idle": "2022-06-20T07:12:29.869744Z",
     "shell.execute_reply": "2022-06-20T07:12:29.869111Z"
    },
    "papermill": {
     "duration": 0.034204,
     "end_time": "2022-06-20T07:12:29.871547",
     "exception": false,
     "start_time": "2022-06-20T07:12:29.837343",
     "status": "completed"
    },
    "tags": []
   },
   "outputs": [
    {
     "data": {
      "text/html": [
       "<div>\n",
       "<style scoped>\n",
       "    .dataframe tbody tr th:only-of-type {\n",
       "        vertical-align: middle;\n",
       "    }\n",
       "\n",
       "    .dataframe tbody tr th {\n",
       "        vertical-align: top;\n",
       "    }\n",
       "\n",
       "    .dataframe thead th {\n",
       "        text-align: right;\n",
       "    }\n",
       "</style>\n",
       "<table border=\"1\" class=\"dataframe\">\n",
       "  <thead>\n",
       "    <tr style=\"text-align: right;\">\n",
       "      <th></th>\n",
       "      <th>id</th>\n",
       "      <th>title</th>\n",
       "      <th>type</th>\n",
       "      <th>release_year</th>\n",
       "      <th>age_certification</th>\n",
       "      <th>runtime</th>\n",
       "      <th>genres</th>\n",
       "      <th>production_countries</th>\n",
       "      <th>seasons</th>\n",
       "      <th>tmdb_popularity</th>\n",
       "      <th>tmdb_score</th>\n",
       "      <th>name</th>\n",
       "      <th>role</th>\n",
       "    </tr>\n",
       "  </thead>\n",
       "  <tbody>\n",
       "    <tr>\n",
       "      <th>0</th>\n",
       "      <td>ts22164</td>\n",
       "      <td>Monty Python's Flying Circus</td>\n",
       "      <td>SHOW</td>\n",
       "      <td>1969.0</td>\n",
       "      <td>TV-14</td>\n",
       "      <td>30.0</td>\n",
       "      <td>['comedy', 'european']</td>\n",
       "      <td>['GB']</td>\n",
       "      <td>4.0</td>\n",
       "      <td>12.919</td>\n",
       "      <td>8.3</td>\n",
       "      <td>Graham Chapman</td>\n",
       "      <td>ACTOR</td>\n",
       "    </tr>\n",
       "    <tr>\n",
       "      <th>1</th>\n",
       "      <td>ts22164</td>\n",
       "      <td>Monty Python's Flying Circus</td>\n",
       "      <td>SHOW</td>\n",
       "      <td>1969.0</td>\n",
       "      <td>TV-14</td>\n",
       "      <td>30.0</td>\n",
       "      <td>['comedy', 'european']</td>\n",
       "      <td>['GB']</td>\n",
       "      <td>4.0</td>\n",
       "      <td>12.919</td>\n",
       "      <td>8.3</td>\n",
       "      <td>Michael Palin</td>\n",
       "      <td>ACTOR</td>\n",
       "    </tr>\n",
       "    <tr>\n",
       "      <th>2</th>\n",
       "      <td>ts22164</td>\n",
       "      <td>Monty Python's Flying Circus</td>\n",
       "      <td>SHOW</td>\n",
       "      <td>1969.0</td>\n",
       "      <td>TV-14</td>\n",
       "      <td>30.0</td>\n",
       "      <td>['comedy', 'european']</td>\n",
       "      <td>['GB']</td>\n",
       "      <td>4.0</td>\n",
       "      <td>12.919</td>\n",
       "      <td>8.3</td>\n",
       "      <td>Terry Jones</td>\n",
       "      <td>ACTOR</td>\n",
       "    </tr>\n",
       "    <tr>\n",
       "      <th>3</th>\n",
       "      <td>ts22164</td>\n",
       "      <td>Monty Python's Flying Circus</td>\n",
       "      <td>SHOW</td>\n",
       "      <td>1969.0</td>\n",
       "      <td>TV-14</td>\n",
       "      <td>30.0</td>\n",
       "      <td>['comedy', 'european']</td>\n",
       "      <td>['GB']</td>\n",
       "      <td>4.0</td>\n",
       "      <td>12.919</td>\n",
       "      <td>8.3</td>\n",
       "      <td>Eric Idle</td>\n",
       "      <td>ACTOR</td>\n",
       "    </tr>\n",
       "    <tr>\n",
       "      <th>4</th>\n",
       "      <td>ts22164</td>\n",
       "      <td>Monty Python's Flying Circus</td>\n",
       "      <td>SHOW</td>\n",
       "      <td>1969.0</td>\n",
       "      <td>TV-14</td>\n",
       "      <td>30.0</td>\n",
       "      <td>['comedy', 'european']</td>\n",
       "      <td>['GB']</td>\n",
       "      <td>4.0</td>\n",
       "      <td>12.919</td>\n",
       "      <td>8.3</td>\n",
       "      <td>Terry Gilliam</td>\n",
       "      <td>ACTOR</td>\n",
       "    </tr>\n",
       "  </tbody>\n",
       "</table>\n",
       "</div>"
      ],
      "text/plain": [
       "        id                         title  type  release_year  \\\n",
       "0  ts22164  Monty Python's Flying Circus  SHOW        1969.0   \n",
       "1  ts22164  Monty Python's Flying Circus  SHOW        1969.0   \n",
       "2  ts22164  Monty Python's Flying Circus  SHOW        1969.0   \n",
       "3  ts22164  Monty Python's Flying Circus  SHOW        1969.0   \n",
       "4  ts22164  Monty Python's Flying Circus  SHOW        1969.0   \n",
       "\n",
       "  age_certification  runtime                  genres production_countries  \\\n",
       "0             TV-14     30.0  ['comedy', 'european']               ['GB']   \n",
       "1             TV-14     30.0  ['comedy', 'european']               ['GB']   \n",
       "2             TV-14     30.0  ['comedy', 'european']               ['GB']   \n",
       "3             TV-14     30.0  ['comedy', 'european']               ['GB']   \n",
       "4             TV-14     30.0  ['comedy', 'european']               ['GB']   \n",
       "\n",
       "   seasons  tmdb_popularity  tmdb_score            name   role  \n",
       "0      4.0           12.919         8.3  Graham Chapman  ACTOR  \n",
       "1      4.0           12.919         8.3   Michael Palin  ACTOR  \n",
       "2      4.0           12.919         8.3     Terry Jones  ACTOR  \n",
       "3      4.0           12.919         8.3       Eric Idle  ACTOR  \n",
       "4      4.0           12.919         8.3   Terry Gilliam  ACTOR  "
      ]
     },
     "execution_count": 30,
     "metadata": {},
     "output_type": "execute_result"
    }
   ],
   "source": [
    "data.head()"
   ]
  },
  {
   "cell_type": "code",
   "execution_count": 31,
   "id": "d048e32d",
   "metadata": {
    "execution": {
     "iopub.execute_input": "2022-06-20T07:12:29.900558Z",
     "iopub.status.busy": "2022-06-20T07:12:29.899729Z",
     "iopub.status.idle": "2022-06-20T07:12:29.946731Z",
     "shell.execute_reply": "2022-06-20T07:12:29.945682Z"
    },
    "papermill": {
     "duration": 0.063674,
     "end_time": "2022-06-20T07:12:29.948701",
     "exception": false,
     "start_time": "2022-06-20T07:12:29.885027",
     "status": "completed"
    },
    "tags": []
   },
   "outputs": [
    {
     "data": {
      "text/html": [
       "<div>\n",
       "<style scoped>\n",
       "    .dataframe tbody tr th:only-of-type {\n",
       "        vertical-align: middle;\n",
       "    }\n",
       "\n",
       "    .dataframe tbody tr th {\n",
       "        vertical-align: top;\n",
       "    }\n",
       "\n",
       "    .dataframe thead th {\n",
       "        text-align: right;\n",
       "    }\n",
       "</style>\n",
       "<table border=\"1\" class=\"dataframe\">\n",
       "  <thead>\n",
       "    <tr style=\"text-align: right;\">\n",
       "      <th></th>\n",
       "      <th>id</th>\n",
       "      <th>title</th>\n",
       "      <th>type</th>\n",
       "      <th>release_year</th>\n",
       "      <th>age_certification</th>\n",
       "      <th>runtime</th>\n",
       "      <th>genres</th>\n",
       "      <th>production_countries</th>\n",
       "      <th>seasons</th>\n",
       "      <th>tmdb_popularity</th>\n",
       "      <th>tmdb_score</th>\n",
       "      <th>name</th>\n",
       "      <th>role</th>\n",
       "    </tr>\n",
       "  </thead>\n",
       "  <tbody>\n",
       "    <tr>\n",
       "      <th>10</th>\n",
       "      <td>ts45948</td>\n",
       "      <td>Monty Python's Fliegender Zirkus</td>\n",
       "      <td>SHOW</td>\n",
       "      <td>1972.0</td>\n",
       "      <td>TV-MA</td>\n",
       "      <td>43.0</td>\n",
       "      <td>['comedy']</td>\n",
       "      <td>[]</td>\n",
       "      <td>1.0</td>\n",
       "      <td>1.490</td>\n",
       "      <td>7.0</td>\n",
       "      <td>Ian MacNaughton</td>\n",
       "      <td>DIRECTOR</td>\n",
       "    </tr>\n",
       "    <tr>\n",
       "      <th>46</th>\n",
       "      <td>ts2760</td>\n",
       "      <td>Fireman Sam</td>\n",
       "      <td>SHOW</td>\n",
       "      <td>1987.0</td>\n",
       "      <td>TV-Y</td>\n",
       "      <td>10.0</td>\n",
       "      <td>['comedy', 'animation', 'family', 'crime', 'eu...</td>\n",
       "      <td>['GB']</td>\n",
       "      <td>13.0</td>\n",
       "      <td>25.697</td>\n",
       "      <td>7.3</td>\n",
       "      <td>Gary Andrews</td>\n",
       "      <td>DIRECTOR</td>\n",
       "    </tr>\n",
       "    <tr>\n",
       "      <th>146</th>\n",
       "      <td>ts21034</td>\n",
       "      <td>InuYasha</td>\n",
       "      <td>SHOW</td>\n",
       "      <td>2000.0</td>\n",
       "      <td>TV-14</td>\n",
       "      <td>25.0</td>\n",
       "      <td>['action', 'comedy', 'scifi', 'animation', 'dr...</td>\n",
       "      <td>['JP']</td>\n",
       "      <td>9.0</td>\n",
       "      <td>149.742</td>\n",
       "      <td>8.6</td>\n",
       "      <td>Yasunao Aoki</td>\n",
       "      <td>DIRECTOR</td>\n",
       "    </tr>\n",
       "    <tr>\n",
       "      <th>147</th>\n",
       "      <td>ts21034</td>\n",
       "      <td>InuYasha</td>\n",
       "      <td>SHOW</td>\n",
       "      <td>2000.0</td>\n",
       "      <td>TV-14</td>\n",
       "      <td>25.0</td>\n",
       "      <td>['action', 'comedy', 'scifi', 'animation', 'dr...</td>\n",
       "      <td>['JP']</td>\n",
       "      <td>9.0</td>\n",
       "      <td>149.742</td>\n",
       "      <td>8.6</td>\n",
       "      <td>Masashi Ikeda</td>\n",
       "      <td>DIRECTOR</td>\n",
       "    </tr>\n",
       "    <tr>\n",
       "      <th>213</th>\n",
       "      <td>ts224786</td>\n",
       "      <td>Escalona</td>\n",
       "      <td>SHOW</td>\n",
       "      <td>1991.0</td>\n",
       "      <td>TV-MA</td>\n",
       "      <td>44.0</td>\n",
       "      <td>['drama']</td>\n",
       "      <td>['CO']</td>\n",
       "      <td>1.0</td>\n",
       "      <td>9.244</td>\n",
       "      <td>7.7</td>\n",
       "      <td>Sergio Cabrera</td>\n",
       "      <td>DIRECTOR</td>\n",
       "    </tr>\n",
       "  </tbody>\n",
       "</table>\n",
       "</div>"
      ],
      "text/plain": [
       "           id                             title  type  release_year  \\\n",
       "10    ts45948  Monty Python's Fliegender Zirkus  SHOW        1972.0   \n",
       "46     ts2760                       Fireman Sam  SHOW        1987.0   \n",
       "146   ts21034                          InuYasha  SHOW        2000.0   \n",
       "147   ts21034                          InuYasha  SHOW        2000.0   \n",
       "213  ts224786                          Escalona  SHOW        1991.0   \n",
       "\n",
       "    age_certification  runtime  \\\n",
       "10              TV-MA     43.0   \n",
       "46               TV-Y     10.0   \n",
       "146             TV-14     25.0   \n",
       "147             TV-14     25.0   \n",
       "213             TV-MA     44.0   \n",
       "\n",
       "                                                genres production_countries  \\\n",
       "10                                          ['comedy']                   []   \n",
       "46   ['comedy', 'animation', 'family', 'crime', 'eu...               ['GB']   \n",
       "146  ['action', 'comedy', 'scifi', 'animation', 'dr...               ['JP']   \n",
       "147  ['action', 'comedy', 'scifi', 'animation', 'dr...               ['JP']   \n",
       "213                                          ['drama']               ['CO']   \n",
       "\n",
       "     seasons  tmdb_popularity  tmdb_score             name      role  \n",
       "10       1.0            1.490         7.0  Ian MacNaughton  DIRECTOR  \n",
       "46      13.0           25.697         7.3     Gary Andrews  DIRECTOR  \n",
       "146      9.0          149.742         8.6     Yasunao Aoki  DIRECTOR  \n",
       "147      9.0          149.742         8.6    Masashi Ikeda  DIRECTOR  \n",
       "213      1.0            9.244         7.7   Sergio Cabrera  DIRECTOR  "
      ]
     },
     "execution_count": 31,
     "metadata": {},
     "output_type": "execute_result"
    }
   ],
   "source": [
    "#filter only directors\n",
    "\n",
    "directors= data[data['role']=='DIRECTOR']\n",
    "directors.head()"
   ]
  },
  {
   "cell_type": "code",
   "execution_count": 32,
   "id": "31d40c19",
   "metadata": {
    "execution": {
     "iopub.execute_input": "2022-06-20T07:12:29.978540Z",
     "iopub.status.busy": "2022-06-20T07:12:29.978154Z",
     "iopub.status.idle": "2022-06-20T07:12:29.995769Z",
     "shell.execute_reply": "2022-06-20T07:12:29.994936Z"
    },
    "papermill": {
     "duration": 0.035082,
     "end_time": "2022-06-20T07:12:29.997551",
     "exception": false,
     "start_time": "2022-06-20T07:12:29.962469",
     "status": "completed"
    },
    "tags": []
   },
   "outputs": [
    {
     "data": {
      "text/html": [
       "<div>\n",
       "<style scoped>\n",
       "    .dataframe tbody tr th:only-of-type {\n",
       "        vertical-align: middle;\n",
       "    }\n",
       "\n",
       "    .dataframe tbody tr th {\n",
       "        vertical-align: top;\n",
       "    }\n",
       "\n",
       "    .dataframe thead th {\n",
       "        text-align: right;\n",
       "    }\n",
       "</style>\n",
       "<table border=\"1\" class=\"dataframe\">\n",
       "  <thead>\n",
       "    <tr style=\"text-align: right;\">\n",
       "      <th></th>\n",
       "      <th>name</th>\n",
       "      <th>title</th>\n",
       "      <th>tmdb_score</th>\n",
       "      <th>tmdb_popularity</th>\n",
       "      <th>type</th>\n",
       "    </tr>\n",
       "  </thead>\n",
       "  <tbody>\n",
       "    <tr>\n",
       "      <th>3196</th>\n",
       "      <td>tooniverse</td>\n",
       "      <td>The Haunted House</td>\n",
       "      <td>10.0</td>\n",
       "      <td>13.649</td>\n",
       "      <td>SHOW</td>\n",
       "    </tr>\n",
       "    <tr>\n",
       "      <th>10615</th>\n",
       "      <td>Alex Cabral</td>\n",
       "      <td>Smother-In-Law</td>\n",
       "      <td>10.0</td>\n",
       "      <td>7.430</td>\n",
       "      <td>SHOW</td>\n",
       "    </tr>\n",
       "    <tr>\n",
       "      <th>3223</th>\n",
       "      <td>Shin Tae sik</td>\n",
       "      <td>Rainbow Ruby</td>\n",
       "      <td>10.0</td>\n",
       "      <td>6.616</td>\n",
       "      <td>SHOW</td>\n",
       "    </tr>\n",
       "    <tr>\n",
       "      <th>9675</th>\n",
       "      <td>Peerapol Kirdjareun</td>\n",
       "      <td>The Charming Stepmom</td>\n",
       "      <td>10.0</td>\n",
       "      <td>6.550</td>\n",
       "      <td>SHOW</td>\n",
       "    </tr>\n",
       "    <tr>\n",
       "      <th>11550</th>\n",
       "      <td>Phil Allora</td>\n",
       "      <td>Action Pack</td>\n",
       "      <td>10.0</td>\n",
       "      <td>3.669</td>\n",
       "      <td>SHOW</td>\n",
       "    </tr>\n",
       "    <tr>\n",
       "      <th>11551</th>\n",
       "      <td>Jae Woo Kim</td>\n",
       "      <td>Action Pack</td>\n",
       "      <td>10.0</td>\n",
       "      <td>3.669</td>\n",
       "      <td>SHOW</td>\n",
       "    </tr>\n",
       "    <tr>\n",
       "      <th>9700</th>\n",
       "      <td>Donnie Lai Cheun-Yu</td>\n",
       "      <td>Futmalls.com</td>\n",
       "      <td>10.0</td>\n",
       "      <td>3.412</td>\n",
       "      <td>SHOW</td>\n",
       "    </tr>\n",
       "    <tr>\n",
       "      <th>9114</th>\n",
       "      <td>Alberto Lecchi</td>\n",
       "      <td>Secreto bien guardado</td>\n",
       "      <td>10.0</td>\n",
       "      <td>2.343</td>\n",
       "      <td>SHOW</td>\n",
       "    </tr>\n",
       "    <tr>\n",
       "      <th>3346</th>\n",
       "      <td>Kwon Nam-ki</td>\n",
       "      <td>Magic Cellphone</td>\n",
       "      <td>10.0</td>\n",
       "      <td>2.159</td>\n",
       "      <td>SHOW</td>\n",
       "    </tr>\n",
       "    <tr>\n",
       "      <th>11124</th>\n",
       "      <td>Chiaki Kon</td>\n",
       "      <td>Pretty Guardians Sailor Moon Eternal The Movie</td>\n",
       "      <td>9.6</td>\n",
       "      <td>19.654</td>\n",
       "      <td>SHOW</td>\n",
       "    </tr>\n",
       "  </tbody>\n",
       "</table>\n",
       "</div>"
      ],
      "text/plain": [
       "                      name                                           title  \\\n",
       "3196            tooniverse                               The Haunted House   \n",
       "10615          Alex Cabral                                  Smother-In-Law   \n",
       "3223          Shin Tae sik                                    Rainbow Ruby   \n",
       "9675   Peerapol Kirdjareun                            The Charming Stepmom   \n",
       "11550          Phil Allora                                     Action Pack   \n",
       "11551          Jae Woo Kim                                     Action Pack   \n",
       "9700   Donnie Lai Cheun-Yu                                    Futmalls.com   \n",
       "9114        Alberto Lecchi                           Secreto bien guardado   \n",
       "3346           Kwon Nam-ki                                 Magic Cellphone   \n",
       "11124           Chiaki Kon  Pretty Guardians Sailor Moon Eternal The Movie   \n",
       "\n",
       "       tmdb_score  tmdb_popularity  type  \n",
       "3196         10.0           13.649  SHOW  \n",
       "10615        10.0            7.430  SHOW  \n",
       "3223         10.0            6.616  SHOW  \n",
       "9675         10.0            6.550  SHOW  \n",
       "11550        10.0            3.669  SHOW  \n",
       "11551        10.0            3.669  SHOW  \n",
       "9700         10.0            3.412  SHOW  \n",
       "9114         10.0            2.343  SHOW  \n",
       "3346         10.0            2.159  SHOW  \n",
       "11124         9.6           19.654  SHOW  "
      ]
     },
     "execution_count": 32,
     "metadata": {},
     "output_type": "execute_result"
    }
   ],
   "source": [
    "#Sorting directors according to popularity and tmbd score\n",
    "top10_directors = directors.sort_values(['tmdb_score', 'tmdb_popularity'],ascending =False)[['name','title','tmdb_score','tmdb_popularity','type']].head(10)\n",
    "top10_directors"
   ]
  },
  {
   "cell_type": "code",
   "execution_count": 33,
   "id": "16f4cb59",
   "metadata": {
    "execution": {
     "iopub.execute_input": "2022-06-20T07:12:30.027165Z",
     "iopub.status.busy": "2022-06-20T07:12:30.026244Z",
     "iopub.status.idle": "2022-06-20T07:12:30.271829Z",
     "shell.execute_reply": "2022-06-20T07:12:30.271040Z"
    },
    "papermill": {
     "duration": 0.262501,
     "end_time": "2022-06-20T07:12:30.273750",
     "exception": false,
     "start_time": "2022-06-20T07:12:30.011249",
     "status": "completed"
    },
    "tags": []
   },
   "outputs": [
    {
     "data": {
      "image/png": "[encoded data removed]",
      "text/plain": [
       "<Figure size 648x432 with 1 Axes>"
      ]
     },
     "metadata": {
      "needs_background": "light"
     },
     "output_type": "display_data"
    }
   ],
   "source": [
    "top10_directors.plot(kind= 'barh', y = 'tmdb_popularity', x = 'name', figsize= (9,6), color= 'blue')\n",
    "plt.xlabel('tmdb popularity')\n",
    "plt.ylabel('name')\n",
    "plt.title('Top 10 directors based on tmdb popularity')\n",
    "plt.show()"
   ]
  },
  {
   "cell_type": "code",
   "execution_count": 34,
   "id": "dd421c24",
   "metadata": {
    "execution": {
     "iopub.execute_input": "2022-06-20T07:12:30.303585Z",
     "iopub.status.busy": "2022-06-20T07:12:30.303186Z",
     "iopub.status.idle": "2022-06-20T07:12:30.335559Z",
     "shell.execute_reply": "2022-06-20T07:12:30.334836Z"
    },
    "papermill": {
     "duration": 0.049737,
     "end_time": "2022-06-20T07:12:30.337662",
     "exception": false,
     "start_time": "2022-06-20T07:12:30.287925",
     "status": "completed"
    },
    "tags": []
   },
   "outputs": [
    {
     "data": {
      "text/html": [
       "<div>\n",
       "<style scoped>\n",
       "    .dataframe tbody tr th:only-of-type {\n",
       "        vertical-align: middle;\n",
       "    }\n",
       "\n",
       "    .dataframe tbody tr th {\n",
       "        vertical-align: top;\n",
       "    }\n",
       "\n",
       "    .dataframe thead th {\n",
       "        text-align: right;\n",
       "    }\n",
       "</style>\n",
       "<table border=\"1\" class=\"dataframe\">\n",
       "  <thead>\n",
       "    <tr style=\"text-align: right;\">\n",
       "      <th></th>\n",
       "      <th>id</th>\n",
       "      <th>title</th>\n",
       "      <th>type</th>\n",
       "      <th>release_year</th>\n",
       "      <th>age_certification</th>\n",
       "      <th>runtime</th>\n",
       "      <th>genres</th>\n",
       "      <th>production_countries</th>\n",
       "      <th>seasons</th>\n",
       "      <th>tmdb_popularity</th>\n",
       "      <th>tmdb_score</th>\n",
       "      <th>name</th>\n",
       "      <th>role</th>\n",
       "    </tr>\n",
       "  </thead>\n",
       "  <tbody>\n",
       "    <tr>\n",
       "      <th>0</th>\n",
       "      <td>ts22164</td>\n",
       "      <td>Monty Python's Flying Circus</td>\n",
       "      <td>SHOW</td>\n",
       "      <td>1969.0</td>\n",
       "      <td>TV-14</td>\n",
       "      <td>30.0</td>\n",
       "      <td>['comedy', 'european']</td>\n",
       "      <td>['GB']</td>\n",
       "      <td>4.0</td>\n",
       "      <td>12.919</td>\n",
       "      <td>8.3</td>\n",
       "      <td>Graham Chapman</td>\n",
       "      <td>ACTOR</td>\n",
       "    </tr>\n",
       "    <tr>\n",
       "      <th>1</th>\n",
       "      <td>ts22164</td>\n",
       "      <td>Monty Python's Flying Circus</td>\n",
       "      <td>SHOW</td>\n",
       "      <td>1969.0</td>\n",
       "      <td>TV-14</td>\n",
       "      <td>30.0</td>\n",
       "      <td>['comedy', 'european']</td>\n",
       "      <td>['GB']</td>\n",
       "      <td>4.0</td>\n",
       "      <td>12.919</td>\n",
       "      <td>8.3</td>\n",
       "      <td>Michael Palin</td>\n",
       "      <td>ACTOR</td>\n",
       "    </tr>\n",
       "    <tr>\n",
       "      <th>2</th>\n",
       "      <td>ts22164</td>\n",
       "      <td>Monty Python's Flying Circus</td>\n",
       "      <td>SHOW</td>\n",
       "      <td>1969.0</td>\n",
       "      <td>TV-14</td>\n",
       "      <td>30.0</td>\n",
       "      <td>['comedy', 'european']</td>\n",
       "      <td>['GB']</td>\n",
       "      <td>4.0</td>\n",
       "      <td>12.919</td>\n",
       "      <td>8.3</td>\n",
       "      <td>Terry Jones</td>\n",
       "      <td>ACTOR</td>\n",
       "    </tr>\n",
       "    <tr>\n",
       "      <th>3</th>\n",
       "      <td>ts22164</td>\n",
       "      <td>Monty Python's Flying Circus</td>\n",
       "      <td>SHOW</td>\n",
       "      <td>1969.0</td>\n",
       "      <td>TV-14</td>\n",
       "      <td>30.0</td>\n",
       "      <td>['comedy', 'european']</td>\n",
       "      <td>['GB']</td>\n",
       "      <td>4.0</td>\n",
       "      <td>12.919</td>\n",
       "      <td>8.3</td>\n",
       "      <td>Eric Idle</td>\n",
       "      <td>ACTOR</td>\n",
       "    </tr>\n",
       "    <tr>\n",
       "      <th>4</th>\n",
       "      <td>ts22164</td>\n",
       "      <td>Monty Python's Flying Circus</td>\n",
       "      <td>SHOW</td>\n",
       "      <td>1969.0</td>\n",
       "      <td>TV-14</td>\n",
       "      <td>30.0</td>\n",
       "      <td>['comedy', 'european']</td>\n",
       "      <td>['GB']</td>\n",
       "      <td>4.0</td>\n",
       "      <td>12.919</td>\n",
       "      <td>8.3</td>\n",
       "      <td>Terry Gilliam</td>\n",
       "      <td>ACTOR</td>\n",
       "    </tr>\n",
       "  </tbody>\n",
       "</table>\n",
       "</div>"
      ],
      "text/plain": [
       "        id                         title  type  release_year  \\\n",
       "0  ts22164  Monty Python's Flying Circus  SHOW        1969.0   \n",
       "1  ts22164  Monty Python's Flying Circus  SHOW        1969.0   \n",
       "2  ts22164  Monty Python's Flying Circus  SHOW        1969.0   \n",
       "3  ts22164  Monty Python's Flying Circus  SHOW        1969.0   \n",
       "4  ts22164  Monty Python's Flying Circus  SHOW        1969.0   \n",
       "\n",
       "  age_certification  runtime                  genres production_countries  \\\n",
       "0             TV-14     30.0  ['comedy', 'european']               ['GB']   \n",
       "1             TV-14     30.0  ['comedy', 'european']               ['GB']   \n",
       "2             TV-14     30.0  ['comedy', 'european']               ['GB']   \n",
       "3             TV-14     30.0  ['comedy', 'european']               ['GB']   \n",
       "4             TV-14     30.0  ['comedy', 'european']               ['GB']   \n",
       "\n",
       "   seasons  tmdb_popularity  tmdb_score            name   role  \n",
       "0      4.0           12.919         8.3  Graham Chapman  ACTOR  \n",
       "1      4.0           12.919         8.3   Michael Palin  ACTOR  \n",
       "2      4.0           12.919         8.3     Terry Jones  ACTOR  \n",
       "3      4.0           12.919         8.3       Eric Idle  ACTOR  \n",
       "4      4.0           12.919         8.3   Terry Gilliam  ACTOR  "
      ]
     },
     "execution_count": 34,
     "metadata": {},
     "output_type": "execute_result"
    }
   ],
   "source": [
    "#filter actors\n",
    "actors= data[data['role']=='ACTOR']\n",
    "actors.head()"
   ]
  },
  {
   "cell_type": "code",
   "execution_count": 35,
   "id": "44da39ae",
   "metadata": {
    "execution": {
     "iopub.execute_input": "2022-06-20T07:12:30.368426Z",
     "iopub.status.busy": "2022-06-20T07:12:30.367904Z",
     "iopub.status.idle": "2022-06-20T07:12:30.401732Z",
     "shell.execute_reply": "2022-06-20T07:12:30.401023Z"
    },
    "papermill": {
     "duration": 0.05127,
     "end_time": "2022-06-20T07:12:30.403546",
     "exception": false,
     "start_time": "2022-06-20T07:12:30.352276",
     "status": "completed"
    },
    "tags": []
   },
   "outputs": [
    {
     "data": {
      "text/html": [
       "<div>\n",
       "<style scoped>\n",
       "    .dataframe tbody tr th:only-of-type {\n",
       "        vertical-align: middle;\n",
       "    }\n",
       "\n",
       "    .dataframe tbody tr th {\n",
       "        vertical-align: top;\n",
       "    }\n",
       "\n",
       "    .dataframe thead th {\n",
       "        text-align: right;\n",
       "    }\n",
       "</style>\n",
       "<table border=\"1\" class=\"dataframe\">\n",
       "  <thead>\n",
       "    <tr style=\"text-align: right;\">\n",
       "      <th></th>\n",
       "      <th>name</th>\n",
       "      <th>title</th>\n",
       "      <th>tmdb_score</th>\n",
       "      <th>tmdb_popularity</th>\n",
       "      <th>type</th>\n",
       "    </tr>\n",
       "  </thead>\n",
       "  <tbody>\n",
       "    <tr>\n",
       "      <th>9384</th>\n",
       "      <td>Emmanuel Esparza</td>\n",
       "      <td>The Queen and the Conqueror</td>\n",
       "      <td>10.0</td>\n",
       "      <td>7.958</td>\n",
       "      <td>SHOW</td>\n",
       "    </tr>\n",
       "    <tr>\n",
       "      <th>9385</th>\n",
       "      <td>Essined Aponte</td>\n",
       "      <td>The Queen and the Conqueror</td>\n",
       "      <td>10.0</td>\n",
       "      <td>7.958</td>\n",
       "      <td>SHOW</td>\n",
       "    </tr>\n",
       "    <tr>\n",
       "      <th>9386</th>\n",
       "      <td>Manuel Navarro</td>\n",
       "      <td>The Queen and the Conqueror</td>\n",
       "      <td>10.0</td>\n",
       "      <td>7.958</td>\n",
       "      <td>SHOW</td>\n",
       "    </tr>\n",
       "    <tr>\n",
       "      <th>9387</th>\n",
       "      <td>Álvaro Benet</td>\n",
       "      <td>The Queen and the Conqueror</td>\n",
       "      <td>10.0</td>\n",
       "      <td>7.958</td>\n",
       "      <td>SHOW</td>\n",
       "    </tr>\n",
       "    <tr>\n",
       "      <th>9388</th>\n",
       "      <td>Alejandro Rodriguez</td>\n",
       "      <td>The Queen and the Conqueror</td>\n",
       "      <td>10.0</td>\n",
       "      <td>7.958</td>\n",
       "      <td>SHOW</td>\n",
       "    </tr>\n",
       "    <tr>\n",
       "      <th>9389</th>\n",
       "      <td>Luis Mesa</td>\n",
       "      <td>The Queen and the Conqueror</td>\n",
       "      <td>10.0</td>\n",
       "      <td>7.958</td>\n",
       "      <td>SHOW</td>\n",
       "    </tr>\n",
       "    <tr>\n",
       "      <th>9390</th>\n",
       "      <td>Wolframio Sinué</td>\n",
       "      <td>The Queen and the Conqueror</td>\n",
       "      <td>10.0</td>\n",
       "      <td>7.958</td>\n",
       "      <td>SHOW</td>\n",
       "    </tr>\n",
       "    <tr>\n",
       "      <th>9391</th>\n",
       "      <td>Gilma Escobar</td>\n",
       "      <td>The Queen and the Conqueror</td>\n",
       "      <td>10.0</td>\n",
       "      <td>7.958</td>\n",
       "      <td>SHOW</td>\n",
       "    </tr>\n",
       "    <tr>\n",
       "      <th>9392</th>\n",
       "      <td>Maia Landaburu</td>\n",
       "      <td>The Queen and the Conqueror</td>\n",
       "      <td>10.0</td>\n",
       "      <td>7.958</td>\n",
       "      <td>SHOW</td>\n",
       "    </tr>\n",
       "    <tr>\n",
       "      <th>9393</th>\n",
       "      <td>Alejandro Muñoz</td>\n",
       "      <td>The Queen and the Conqueror</td>\n",
       "      <td>10.0</td>\n",
       "      <td>7.958</td>\n",
       "      <td>SHOW</td>\n",
       "    </tr>\n",
       "  </tbody>\n",
       "</table>\n",
       "</div>"
      ],
      "text/plain": [
       "                     name                        title  tmdb_score  \\\n",
       "9384     Emmanuel Esparza  The Queen and the Conqueror        10.0   \n",
       "9385       Essined Aponte  The Queen and the Conqueror        10.0   \n",
       "9386       Manuel Navarro  The Queen and the Conqueror        10.0   \n",
       "9387         Álvaro Benet  The Queen and the Conqueror        10.0   \n",
       "9388  Alejandro Rodriguez  The Queen and the Conqueror        10.0   \n",
       "9389            Luis Mesa  The Queen and the Conqueror        10.0   \n",
       "9390      Wolframio Sinué  The Queen and the Conqueror        10.0   \n",
       "9391        Gilma Escobar  The Queen and the Conqueror        10.0   \n",
       "9392       Maia Landaburu  The Queen and the Conqueror        10.0   \n",
       "9393      Alejandro Muñoz  The Queen and the Conqueror        10.0   \n",
       "\n",
       "      tmdb_popularity  type  \n",
       "9384            7.958  SHOW  \n",
       "9385            7.958  SHOW  \n",
       "9386            7.958  SHOW  \n",
       "9387            7.958  SHOW  \n",
       "9388            7.958  SHOW  \n",
       "9389            7.958  SHOW  \n",
       "9390            7.958  SHOW  \n",
       "9391            7.958  SHOW  \n",
       "9392            7.958  SHOW  \n",
       "9393            7.958  SHOW  "
      ]
     },
     "execution_count": 35,
     "metadata": {},
     "output_type": "execute_result"
    }
   ],
   "source": [
    "#Sorting actors according to popularity and tmbd score\n",
    "top10_actors = actors.sort_values(['tmdb_score', 'tmdb_popularity'],ascending =False)[['name','title','tmdb_score','tmdb_popularity','type']].head(10)\n",
    "top10_actors"
   ]
  },
  {
   "cell_type": "code",
   "execution_count": 36,
   "id": "8b2689d2",
   "metadata": {
    "execution": {
     "iopub.execute_input": "2022-06-20T07:12:30.434707Z",
     "iopub.status.busy": "2022-06-20T07:12:30.434190Z",
     "iopub.status.idle": "2022-06-20T07:12:30.666395Z",
     "shell.execute_reply": "2022-06-20T07:12:30.665761Z"
    },
    "papermill": {
     "duration": 0.249852,
     "end_time": "2022-06-20T07:12:30.668123",
     "exception": false,
     "start_time": "2022-06-20T07:12:30.418271",
     "status": "completed"
    },
    "tags": []
   },
   "outputs": [
    {
     "data": {
      "image/png": "[encoded data removed]",
      "text/plain": [
       "<Figure size 648x432 with 1 Axes>"
      ]
     },
     "metadata": {
      "needs_background": "light"
     },
     "output_type": "display_data"
    }
   ],
   "source": [
    "top10_actors.plot(kind= 'barh', y = 'tmdb_popularity', x = 'name', figsize= (9,6), color= 'blue')\n",
    "plt.xlabel('tmdb popularity')\n",
    "plt.ylabel('name')\n",
    "plt.title('Top 10 Actors based on tmdb popularity')\n",
    "plt.show()"
   ]
  },
  {
   "cell_type": "markdown",
   "id": "f02bee53",
   "metadata": {
    "papermill": {
     "duration": 0.015067,
     "end_time": "2022-06-20T07:12:30.698186",
     "exception": false,
     "start_time": "2022-06-20T07:12:30.683119",
     "status": "completed"
    },
    "tags": []
   },
   "source": [
    "# CONCLUSION\n",
    "From the analysis of the Netflix dataset, I can conclusively state that 'US' had the highest number of independent production(1,912). Also, there was a huge decline in production since 2020 till date. The highly scored and popular director based on tmdb score and popularity is Tooniverse.\n",
    "\n",
    "The limitation I encountered in the process of analysis was having to deal with null values in some columns. Columns that were non-essential to this analysis and columns that had high null values were removed. Also, records with null values were expunged because the total number of records with null values was insignificant(<10%)"
   ]
  },
  {
   "cell_type": "code",
   "execution_count": null,
   "id": "07f171e9",
   "metadata": {
    "papermill": {
     "duration": 0.015795,
     "end_time": "2022-06-20T07:12:30.729603",
     "exception": false,
     "start_time": "2022-06-20T07:12:30.713808",
     "status": "completed"
    },
    "tags": []
   },
   "outputs": [],
   "source": []
  }
 ],
 "metadata": {
  "kernelspec": {
   "display_name": "Python 3",
   "language": "python",
   "name": "python3"
  },
  "language_info": {
   "codemirror_mode": {
    "name": "ipython",
    "version": 3
   },
   "file_extension": ".py",
   "mimetype": "text/x-python",
   "name": "python",
   "nbconvert_exporter": "python",
   "pygments_lexer": "ipython3",
   "version": "3.7.12"
  },
  "papermill": {
   "default_parameters": {},
   "duration": 13.548116,
   "end_time": "2022-06-20T07:12:31.468300",
   "environment_variables": {},
   "exception": null,
   "input_path": "__notebook__.ipynb",
   "output_path": "__notebook__.ipynb",
   "parameters": {},
   "start_time": "2022-06-20T07:12:17.920184",
   "version": "2.3.4"
  }
 },
 "nbformat": 4,
 "nbformat_minor": 5
}
